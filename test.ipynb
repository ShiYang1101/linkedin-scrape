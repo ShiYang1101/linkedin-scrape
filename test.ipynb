{
 "cells": [
  {
   "cell_type": "code",
   "execution_count": 9,
   "metadata": {},
   "outputs": [
    {
     "data": {
      "text/plain": [
       "['Username: shiyanglee1998@gmail.com\\n',\n",
       " '\\n',\n",
       " '\\n',\n",
       " 'Job_search: data\\n',\n",
       " 'Location: United Kingdom\\n',\n",
       " '\\n',\n",
       " 'JOB_LISTING_XPATH : //*[@id=\"main\"]/div/section[1]/div/ul/*\\n',\n",
       " 'LINK_XPATH : //div[contains(@class, \"jobs-unified-top-card t-14\")]//a[@href]\\n']"
      ]
     },
     "execution_count": 9,
     "metadata": {},
     "output_type": "execute_result"
    }
   ],
   "source": [
    "with open('./config.txt', 'r') as f:\n",
    "    lines = f.readlines()\n",
    "f.close()\n",
    "lines"
   ]
  },
  {
   "cell_type": "code",
   "execution_count": 10,
   "metadata": {},
   "outputs": [
    {
     "name": "stdout",
     "output_type": "stream",
     "text": [
      "/home/shiya/Documents/myblog/posts/linkedin/linkedin-scape\n"
     ]
    }
   ],
   "source": [
    "!pwd"
   ]
  },
  {
   "cell_type": "code",
   "execution_count": 11,
   "metadata": {},
   "outputs": [
    {
     "data": {
      "text/plain": [
       "{'Username': 'shiyanglee1998@gmail.com',\n",
       " 'Job_search': 'data',\n",
       " 'Location': 'United Kingdom',\n",
       " 'JOB_LISTING_XPATH': '//*[@id=\"main\"]/div/section[1]/div/ul/*',\n",
       " 'LINK_XPATH': '//div[contains(@class, \"jobs-unified-top-card t-14\")]//a[@href]'}"
      ]
     },
     "execution_count": 11,
     "metadata": {},
     "output_type": "execute_result"
    }
   ],
   "source": [
    "dict([[y.strip() for y in x] for x in [x.strip().split(':') for x in lines] if x != ['']])"
   ]
  },
  {
   "cell_type": "code",
   "execution_count": 1,
   "metadata": {},
   "outputs": [],
   "source": []
  },
  {
   "cell_type": "code",
   "execution_count": 4,
   "metadata": {},
   "outputs": [],
   "source": [
    "from scraper import *"
   ]
  },
  {
   "cell_type": "code",
   "execution_count": 12,
   "metadata": {},
   "outputs": [],
   "source": [
    "import subprocess"
   ]
  },
  {
   "cell_type": "code",
   "execution_count": null,
   "metadata": {},
   "outputs": [],
   "source": []
  },
  {
   "cell_type": "code",
   "execution_count": 17,
   "metadata": {},
   "outputs": [
    {
     "ename": "FileNotFoundError",
     "evalue": "[Errno 2] No such file or directory: \"mkdir, 'data/'\"",
     "output_type": "error",
     "traceback": [
      "\u001b[0;31m---------------------------------------------------------------------------\u001b[0m",
      "\u001b[0;31mFileNotFoundError\u001b[0m                         Traceback (most recent call last)",
      "Cell \u001b[0;32mIn[17], line 1\u001b[0m\n\u001b[0;32m----> 1\u001b[0m subprocess\u001b[39m.\u001b[39;49mrun([\u001b[39m\"\u001b[39;49m\u001b[39mmkdir, \u001b[39;49m\u001b[39m'\u001b[39;49m\u001b[39mdata/\u001b[39;49m\u001b[39m'\u001b[39;49m\u001b[39m\"\u001b[39;49m])\n",
      "File \u001b[0;32m~/anaconda3/envs/web-scrape/lib/python3.8/subprocess.py:493\u001b[0m, in \u001b[0;36mrun\u001b[0;34m(input, capture_output, timeout, check, *popenargs, **kwargs)\u001b[0m\n\u001b[1;32m    490\u001b[0m     kwargs[\u001b[39m'\u001b[39m\u001b[39mstdout\u001b[39m\u001b[39m'\u001b[39m] \u001b[39m=\u001b[39m PIPE\n\u001b[1;32m    491\u001b[0m     kwargs[\u001b[39m'\u001b[39m\u001b[39mstderr\u001b[39m\u001b[39m'\u001b[39m] \u001b[39m=\u001b[39m PIPE\n\u001b[0;32m--> 493\u001b[0m \u001b[39mwith\u001b[39;00m Popen(\u001b[39m*\u001b[39;49mpopenargs, \u001b[39m*\u001b[39;49m\u001b[39m*\u001b[39;49mkwargs) \u001b[39mas\u001b[39;00m process:\n\u001b[1;32m    494\u001b[0m     \u001b[39mtry\u001b[39;00m:\n\u001b[1;32m    495\u001b[0m         stdout, stderr \u001b[39m=\u001b[39m process\u001b[39m.\u001b[39mcommunicate(\u001b[39minput\u001b[39m, timeout\u001b[39m=\u001b[39mtimeout)\n",
      "File \u001b[0;32m~/anaconda3/envs/web-scrape/lib/python3.8/subprocess.py:858\u001b[0m, in \u001b[0;36mPopen.__init__\u001b[0;34m(self, args, bufsize, executable, stdin, stdout, stderr, preexec_fn, close_fds, shell, cwd, env, universal_newlines, startupinfo, creationflags, restore_signals, start_new_session, pass_fds, encoding, errors, text)\u001b[0m\n\u001b[1;32m    854\u001b[0m         \u001b[39mif\u001b[39;00m \u001b[39mself\u001b[39m\u001b[39m.\u001b[39mtext_mode:\n\u001b[1;32m    855\u001b[0m             \u001b[39mself\u001b[39m\u001b[39m.\u001b[39mstderr \u001b[39m=\u001b[39m io\u001b[39m.\u001b[39mTextIOWrapper(\u001b[39mself\u001b[39m\u001b[39m.\u001b[39mstderr,\n\u001b[1;32m    856\u001b[0m                     encoding\u001b[39m=\u001b[39mencoding, errors\u001b[39m=\u001b[39merrors)\n\u001b[0;32m--> 858\u001b[0m     \u001b[39mself\u001b[39;49m\u001b[39m.\u001b[39;49m_execute_child(args, executable, preexec_fn, close_fds,\n\u001b[1;32m    859\u001b[0m                         pass_fds, cwd, env,\n\u001b[1;32m    860\u001b[0m                         startupinfo, creationflags, shell,\n\u001b[1;32m    861\u001b[0m                         p2cread, p2cwrite,\n\u001b[1;32m    862\u001b[0m                         c2pread, c2pwrite,\n\u001b[1;32m    863\u001b[0m                         errread, errwrite,\n\u001b[1;32m    864\u001b[0m                         restore_signals, start_new_session)\n\u001b[1;32m    865\u001b[0m \u001b[39mexcept\u001b[39;00m:\n\u001b[1;32m    866\u001b[0m     \u001b[39m# Cleanup if the child failed starting.\u001b[39;00m\n\u001b[1;32m    867\u001b[0m     \u001b[39mfor\u001b[39;00m f \u001b[39min\u001b[39;00m \u001b[39mfilter\u001b[39m(\u001b[39mNone\u001b[39;00m, (\u001b[39mself\u001b[39m\u001b[39m.\u001b[39mstdin, \u001b[39mself\u001b[39m\u001b[39m.\u001b[39mstdout, \u001b[39mself\u001b[39m\u001b[39m.\u001b[39mstderr)):\n",
      "File \u001b[0;32m~/anaconda3/envs/web-scrape/lib/python3.8/subprocess.py:1704\u001b[0m, in \u001b[0;36mPopen._execute_child\u001b[0;34m(self, args, executable, preexec_fn, close_fds, pass_fds, cwd, env, startupinfo, creationflags, shell, p2cread, p2cwrite, c2pread, c2pwrite, errread, errwrite, restore_signals, start_new_session)\u001b[0m\n\u001b[1;32m   1702\u001b[0m     \u001b[39mif\u001b[39;00m errno_num \u001b[39m!=\u001b[39m \u001b[39m0\u001b[39m:\n\u001b[1;32m   1703\u001b[0m         err_msg \u001b[39m=\u001b[39m os\u001b[39m.\u001b[39mstrerror(errno_num)\n\u001b[0;32m-> 1704\u001b[0m     \u001b[39mraise\u001b[39;00m child_exception_type(errno_num, err_msg, err_filename)\n\u001b[1;32m   1705\u001b[0m \u001b[39mraise\u001b[39;00m child_exception_type(err_msg)\n",
      "\u001b[0;31mFileNotFoundError\u001b[0m: [Errno 2] No such file or directory: \"mkdir, 'data/'\""
     ]
    }
   ],
   "source": [
    "subprocess.run([\"mkdir, 'data/'\"])"
   ]
  },
  {
   "cell_type": "code",
   "execution_count": 18,
   "metadata": {},
   "outputs": [],
   "source": [
    "import pandas as pd"
   ]
  },
  {
   "cell_type": "code",
   "execution_count": 19,
   "metadata": {},
   "outputs": [],
   "source": [
    "test = pd.read_csv('./data/job.csv')"
   ]
  },
  {
   "cell_type": "code",
   "execution_count": 21,
   "metadata": {},
   "outputs": [
    {
     "data": {
      "text/html": [
       "<div>\n",
       "<style scoped>\n",
       "    .dataframe tbody tr th:only-of-type {\n",
       "        vertical-align: middle;\n",
       "    }\n",
       "\n",
       "    .dataframe tbody tr th {\n",
       "        vertical-align: top;\n",
       "    }\n",
       "\n",
       "    .dataframe thead th {\n",
       "        text-align: right;\n",
       "    }\n",
       "</style>\n",
       "<table border=\"1\" class=\"dataframe\">\n",
       "  <thead>\n",
       "    <tr style=\"text-align: right;\">\n",
       "      <th></th>\n",
       "      <th>Unnamed: 0</th>\n",
       "      <th>company</th>\n",
       "      <th>employee</th>\n",
       "      <th>company_type</th>\n",
       "      <th>link</th>\n",
       "      <th>id</th>\n",
       "      <th>job_desc</th>\n",
       "      <th>job_type</th>\n",
       "      <th>location</th>\n",
       "      <th>salary</th>\n",
       "      <th>title</th>\n",
       "    </tr>\n",
       "  </thead>\n",
       "  <tbody>\n",
       "    <tr>\n",
       "      <th>42</th>\n",
       "      <td>42</td>\n",
       "      <td>Nicholas Howard Ltd</td>\n",
       "      <td>11-50 employees</td>\n",
       "      <td>NaN</td>\n",
       "      <td>https://www.linkedin.com/jobs/view/3487615793/...</td>\n",
       "      <td>3487615793</td>\n",
       "      <td>Nicholas Howard is delighted to be working wit...</td>\n",
       "      <td>Hybrid</td>\n",
       "      <td>Oxford, England, United Kingdom</td>\n",
       "      <td>NaN</td>\n",
       "      <td>Graduate Statistical Programmer</td>\n",
       "    </tr>\n",
       "    <tr>\n",
       "      <th>43</th>\n",
       "      <td>43</td>\n",
       "      <td>Utility Warehouse</td>\n",
       "      <td>1,001-5,000 employees</td>\n",
       "      <td>Utilities</td>\n",
       "      <td>https://www.linkedin.com/jobs/view/3469808851/...</td>\n",
       "      <td>3469808851</td>\n",
       "      <td>Company Description\\n \\nThis role is available...</td>\n",
       "      <td>NaN</td>\n",
       "      <td>London, England, United Kingdom</td>\n",
       "      <td>NaN</td>\n",
       "      <td>Data Analyst (DEX - Lifecycle)</td>\n",
       "    </tr>\n",
       "    <tr>\n",
       "      <th>44</th>\n",
       "      <td>44</td>\n",
       "      <td>NaN</td>\n",
       "      <td>10,001+ employees</td>\n",
       "      <td>Utilities</td>\n",
       "      <td>https://www.linkedin.com/jobs/view/3487931454/...</td>\n",
       "      <td>3487931454</td>\n",
       "      <td>Salary:\\n \\nUp to £35,000 per annum with a tot...</td>\n",
       "      <td>On-site</td>\n",
       "      <td>Cannock, England, United Kingdom</td>\n",
       "      <td>NaN</td>\n",
       "      <td>Data Analyst</td>\n",
       "    </tr>\n",
       "    <tr>\n",
       "      <th>45</th>\n",
       "      <td>45</td>\n",
       "      <td>SLS Recruitment Specialising in Further Education</td>\n",
       "      <td>1-10 employees</td>\n",
       "      <td>Staffing and Recruiting</td>\n",
       "      <td>https://www.linkedin.com/jobs/view/3487599590/...</td>\n",
       "      <td>3487599590</td>\n",
       "      <td>Data Analyst- £30-33,000 + Benefits- Hybrid ro...</td>\n",
       "      <td>Hybrid</td>\n",
       "      <td>Reading, England, United Kingdom</td>\n",
       "      <td>£32,000/yr - £33,000/yr</td>\n",
       "      <td>Data Analyst- £30-33,000 + Benefits- Hybrid ro...</td>\n",
       "    </tr>\n",
       "    <tr>\n",
       "      <th>46</th>\n",
       "      <td>46</td>\n",
       "      <td>WSP in the UK</td>\n",
       "      <td>5,001-10,000 employees</td>\n",
       "      <td>Professional Services</td>\n",
       "      <td>https://www.linkedin.com/jobs/view/3487165169/...</td>\n",
       "      <td>3487165169</td>\n",
       "      <td>We are WSP - Join us and make your career futu...</td>\n",
       "      <td>Hybrid</td>\n",
       "      <td>England, United Kingdom</td>\n",
       "      <td>NaN</td>\n",
       "      <td>Project Data Analyst - Rail</td>\n",
       "    </tr>\n",
       "  </tbody>\n",
       "</table>\n",
       "</div>"
      ],
      "text/plain": [
       "    Unnamed: 0                                            company  \\\n",
       "42          42                                Nicholas Howard Ltd   \n",
       "43          43                                  Utility Warehouse   \n",
       "44          44                                                NaN   \n",
       "45          45  SLS Recruitment Specialising in Further Education   \n",
       "46          46                                      WSP in the UK   \n",
       "\n",
       "                  employee             company_type  \\\n",
       "42         11-50 employees                      NaN   \n",
       "43   1,001-5,000 employees                Utilities   \n",
       "44       10,001+ employees                Utilities   \n",
       "45          1-10 employees  Staffing and Recruiting   \n",
       "46  5,001-10,000 employees    Professional Services   \n",
       "\n",
       "                                                 link          id  \\\n",
       "42  https://www.linkedin.com/jobs/view/3487615793/...  3487615793   \n",
       "43  https://www.linkedin.com/jobs/view/3469808851/...  3469808851   \n",
       "44  https://www.linkedin.com/jobs/view/3487931454/...  3487931454   \n",
       "45  https://www.linkedin.com/jobs/view/3487599590/...  3487599590   \n",
       "46  https://www.linkedin.com/jobs/view/3487165169/...  3487165169   \n",
       "\n",
       "                                             job_desc job_type  \\\n",
       "42  Nicholas Howard is delighted to be working wit...   Hybrid   \n",
       "43  Company Description\\n \\nThis role is available...      NaN   \n",
       "44  Salary:\\n \\nUp to £35,000 per annum with a tot...  On-site   \n",
       "45  Data Analyst- £30-33,000 + Benefits- Hybrid ro...   Hybrid   \n",
       "46  We are WSP - Join us and make your career futu...   Hybrid   \n",
       "\n",
       "                            location                   salary  \\\n",
       "42   Oxford, England, United Kingdom                      NaN   \n",
       "43   London, England, United Kingdom                      NaN   \n",
       "44  Cannock, England, United Kingdom                      NaN   \n",
       "45  Reading, England, United Kingdom  £32,000/yr - £33,000/yr   \n",
       "46           England, United Kingdom                      NaN   \n",
       "\n",
       "                                                title  \n",
       "42                    Graduate Statistical Programmer  \n",
       "43                     Data Analyst (DEX - Lifecycle)  \n",
       "44                                       Data Analyst  \n",
       "45  Data Analyst- £30-33,000 + Benefits- Hybrid ro...  \n",
       "46                        Project Data Analyst - Rail  "
      ]
     },
     "execution_count": 21,
     "metadata": {},
     "output_type": "execute_result"
    }
   ],
   "source": [
    "test.tail()"
   ]
  },
  {
   "cell_type": "code",
   "execution_count": 22,
   "metadata": {},
   "outputs": [],
   "source": [
    "test1 = pd.read_csv('./data/skill.csv')"
   ]
  },
  {
   "cell_type": "code",
   "execution_count": 23,
   "metadata": {},
   "outputs": [
    {
     "data": {
      "text/html": [
       "<div>\n",
       "<style scoped>\n",
       "    .dataframe tbody tr th:only-of-type {\n",
       "        vertical-align: middle;\n",
       "    }\n",
       "\n",
       "    .dataframe tbody tr th {\n",
       "        vertical-align: top;\n",
       "    }\n",
       "\n",
       "    .dataframe thead th {\n",
       "        text-align: right;\n",
       "    }\n",
       "</style>\n",
       "<table border=\"1\" class=\"dataframe\">\n",
       "  <thead>\n",
       "    <tr style=\"text-align: right;\">\n",
       "      <th></th>\n",
       "      <th>Unnamed: 0</th>\n",
       "      <th>id</th>\n",
       "      <th>skills</th>\n",
       "    </tr>\n",
       "  </thead>\n",
       "  <tbody>\n",
       "    <tr>\n",
       "      <th>0</th>\n",
       "      <td>0</td>\n",
       "      <td>3484746026</td>\n",
       "      <td>Analytical Skills</td>\n",
       "    </tr>\n",
       "    <tr>\n",
       "      <th>1</th>\n",
       "      <td>1</td>\n",
       "      <td>3484746026</td>\n",
       "      <td>Analytics</td>\n",
       "    </tr>\n",
       "    <tr>\n",
       "      <th>2</th>\n",
       "      <td>2</td>\n",
       "      <td>3484746026</td>\n",
       "      <td>Data Analysis</td>\n",
       "    </tr>\n",
       "    <tr>\n",
       "      <th>3</th>\n",
       "      <td>3</td>\n",
       "      <td>3484746026</td>\n",
       "      <td>Data Analytics</td>\n",
       "    </tr>\n",
       "    <tr>\n",
       "      <th>4</th>\n",
       "      <td>4</td>\n",
       "      <td>3484746026</td>\n",
       "      <td>Mathematics</td>\n",
       "    </tr>\n",
       "    <tr>\n",
       "      <th>...</th>\n",
       "      <td>...</td>\n",
       "      <td>...</td>\n",
       "      <td>...</td>\n",
       "    </tr>\n",
       "    <tr>\n",
       "      <th>458</th>\n",
       "      <td>458</td>\n",
       "      <td>3487165169</td>\n",
       "      <td>Microsoft Power BI</td>\n",
       "    </tr>\n",
       "    <tr>\n",
       "      <th>459</th>\n",
       "      <td>459</td>\n",
       "      <td>3487165169</td>\n",
       "      <td>Predictive Analytics</td>\n",
       "    </tr>\n",
       "    <tr>\n",
       "      <th>460</th>\n",
       "      <td>460</td>\n",
       "      <td>3487165169</td>\n",
       "      <td>Problem Solving</td>\n",
       "    </tr>\n",
       "    <tr>\n",
       "      <th>461</th>\n",
       "      <td>461</td>\n",
       "      <td>3487165169</td>\n",
       "      <td>Project Management</td>\n",
       "    </tr>\n",
       "    <tr>\n",
       "      <th>462</th>\n",
       "      <td>462</td>\n",
       "      <td>3487165169</td>\n",
       "      <td>Project Performance</td>\n",
       "    </tr>\n",
       "  </tbody>\n",
       "</table>\n",
       "<p>463 rows × 3 columns</p>\n",
       "</div>"
      ],
      "text/plain": [
       "     Unnamed: 0          id                skills\n",
       "0             0  3484746026     Analytical Skills\n",
       "1             1  3484746026             Analytics\n",
       "2             2  3484746026         Data Analysis\n",
       "3             3  3484746026        Data Analytics\n",
       "4             4  3484746026           Mathematics\n",
       "..          ...         ...                   ...\n",
       "458         458  3487165169    Microsoft Power BI\n",
       "459         459  3487165169  Predictive Analytics\n",
       "460         460  3487165169       Problem Solving\n",
       "461         461  3487165169    Project Management\n",
       "462         462  3487165169   Project Performance\n",
       "\n",
       "[463 rows x 3 columns]"
      ]
     },
     "execution_count": 23,
     "metadata": {},
     "output_type": "execute_result"
    }
   ],
   "source": [
    "test1"
   ]
  },
  {
   "cell_type": "code",
   "execution_count": 1,
   "metadata": {},
   "outputs": [
    {
     "name": "stderr",
     "output_type": "stream",
     "text": [
      "/home/shiya/anaconda3/envs/web-scrape/lib/python3.8/site-packages/tqdm/auto.py:22: TqdmWarning: IProgress not found. Please update jupyter and ipywidgets. See https://ipywidgets.readthedocs.io/en/stable/user_install.html\n",
      "  from .autonotebook import tqdm as notebook_tqdm\n"
     ]
    }
   ],
   "source": [
    "import selenium\n",
    "from selenium import webdriver\n",
    "\n",
    "from bs4 import BeautifulSoup as bs\n",
    "\n",
    "from scraper import *"
   ]
  },
  {
   "cell_type": "code",
   "execution_count": 2,
   "metadata": {},
   "outputs": [],
   "source": [
    "driver = webdriver.Chrome()"
   ]
  },
  {
   "cell_type": "code",
   "execution_count": null,
   "metadata": {},
   "outputs": [],
   "source": []
  },
  {
   "cell_type": "code",
   "execution_count": 3,
   "metadata": {},
   "outputs": [],
   "source": [
    "driver.get('https://www.linkedin.com')"
   ]
  },
  {
   "cell_type": "code",
   "execution_count": 5,
   "metadata": {},
   "outputs": [],
   "source": [
    "soup  = bs(driver.page_source)"
   ]
  },
  {
   "cell_type": "code",
   "execution_count": 6,
   "metadata": {},
   "outputs": [],
   "source": [
    "lk = linkedin_soup(soup)"
   ]
  },
  {
   "cell_type": "code",
   "execution_count": 7,
   "metadata": {},
   "outputs": [
    {
     "data": {
      "text/plain": [
       "['Analytical Skills',\n",
       " 'Communication',\n",
       " 'Data Analytics',\n",
       " 'Data Visualization',\n",
       " 'Business Engagement',\n",
       " 'Data Cleaning',\n",
       " 'Logical Approach',\n",
       " 'Problem Solving',\n",
       " 'SC',\n",
       " 'Skilled Multi-tasker']"
      ]
     },
     "execution_count": 7,
     "metadata": {},
     "output_type": "execute_result"
    }
   ],
   "source": [
    "get_skills(driver)"
   ]
  },
  {
   "cell_type": "code",
   "execution_count": null,
   "metadata": {},
   "outputs": [],
   "source": []
  },
  {
   "cell_type": "code",
   "execution_count": 14,
   "metadata": {},
   "outputs": [
    {
     "data": {
      "text/html": [
       "<div>\n",
       "<style scoped>\n",
       "    .dataframe tbody tr th:only-of-type {\n",
       "        vertical-align: middle;\n",
       "    }\n",
       "\n",
       "    .dataframe tbody tr th {\n",
       "        vertical-align: top;\n",
       "    }\n",
       "\n",
       "    .dataframe thead th {\n",
       "        text-align: right;\n",
       "    }\n",
       "</style>\n",
       "<table border=\"1\" class=\"dataframe\">\n",
       "  <thead>\n",
       "    <tr style=\"text-align: right;\">\n",
       "      <th></th>\n",
       "      <th>id</th>\n",
       "      <th>skills</th>\n",
       "    </tr>\n",
       "  </thead>\n",
       "  <tbody>\n",
       "    <tr>\n",
       "      <th>0</th>\n",
       "      <td>3455024299</td>\n",
       "      <td>Business Growth</td>\n",
       "    </tr>\n",
       "    <tr>\n",
       "      <th>1</th>\n",
       "      <td>3455024299</td>\n",
       "      <td>Data Strategies</td>\n",
       "    </tr>\n",
       "    <tr>\n",
       "      <th>2</th>\n",
       "      <td>3455024299</td>\n",
       "      <td>Design Development</td>\n",
       "    </tr>\n",
       "    <tr>\n",
       "      <th>3</th>\n",
       "      <td>3455024299</td>\n",
       "      <td>Evidence</td>\n",
       "    </tr>\n",
       "    <tr>\n",
       "      <th>4</th>\n",
       "      <td>3455024299</td>\n",
       "      <td>Franchise Management</td>\n",
       "    </tr>\n",
       "    <tr>\n",
       "      <th>...</th>\n",
       "      <td>...</td>\n",
       "      <td>...</td>\n",
       "    </tr>\n",
       "    <tr>\n",
       "      <th>216</th>\n",
       "      <td>3475040640</td>\n",
       "      <td>Attention to Detail</td>\n",
       "    </tr>\n",
       "    <tr>\n",
       "      <th>217</th>\n",
       "      <td>3475040640</td>\n",
       "      <td>Data Modeling</td>\n",
       "    </tr>\n",
       "    <tr>\n",
       "      <th>218</th>\n",
       "      <td>3475040640</td>\n",
       "      <td>Databases</td>\n",
       "    </tr>\n",
       "    <tr>\n",
       "      <th>219</th>\n",
       "      <td>3475040640</td>\n",
       "      <td>Extract, Transform, Load (ETL)</td>\n",
       "    </tr>\n",
       "    <tr>\n",
       "      <th>220</th>\n",
       "      <td>3475040640</td>\n",
       "      <td>Problem Solving</td>\n",
       "    </tr>\n",
       "  </tbody>\n",
       "</table>\n",
       "<p>221 rows × 2 columns</p>\n",
       "</div>"
      ],
      "text/plain": [
       "             id                          skills\n",
       "0    3455024299                 Business Growth\n",
       "1    3455024299                 Data Strategies\n",
       "2    3455024299              Design Development\n",
       "3    3455024299                        Evidence\n",
       "4    3455024299            Franchise Management\n",
       "..          ...                             ...\n",
       "216  3475040640             Attention to Detail\n",
       "217  3475040640                   Data Modeling\n",
       "218  3475040640                       Databases\n",
       "219  3475040640  Extract, Transform, Load (ETL)\n",
       "220  3475040640                 Problem Solving\n",
       "\n",
       "[221 rows x 2 columns]"
      ]
     },
     "execution_count": 14,
     "metadata": {},
     "output_type": "execute_result"
    }
   ],
   "source": [
    "test_skill"
   ]
  },
  {
   "cell_type": "code",
   "execution_count": 11,
   "metadata": {},
   "outputs": [
    {
     "data": {
      "text/html": [
       "<div>\n",
       "<style scoped>\n",
       "    .dataframe tbody tr th:only-of-type {\n",
       "        vertical-align: middle;\n",
       "    }\n",
       "\n",
       "    .dataframe tbody tr th {\n",
       "        vertical-align: top;\n",
       "    }\n",
       "\n",
       "    .dataframe thead th {\n",
       "        text-align: right;\n",
       "    }\n",
       "</style>\n",
       "<table border=\"1\" class=\"dataframe\">\n",
       "  <thead>\n",
       "    <tr style=\"text-align: right;\">\n",
       "      <th></th>\n",
       "      <th>company</th>\n",
       "      <th>employee</th>\n",
       "      <th>company_type</th>\n",
       "      <th>link</th>\n",
       "      <th>id</th>\n",
       "      <th>job_desc</th>\n",
       "      <th>job_type</th>\n",
       "      <th>location</th>\n",
       "      <th>salary</th>\n",
       "      <th>title</th>\n",
       "    </tr>\n",
       "  </thead>\n",
       "  <tbody>\n",
       "    <tr>\n",
       "      <th>0</th>\n",
       "      <td>Government Statistical Service</td>\n",
       "      <td>1,001-5,000 employees</td>\n",
       "      <td>Government Administration</td>\n",
       "      <td>https://www.linkedin.com/jobs/view/3472811784/...</td>\n",
       "      <td>3472811784</td>\n",
       "      <td>Data Science Degree Apprenticeship Level 6 - W...</td>\n",
       "      <td>Hybrid</td>\n",
       "      <td>England, United Kingdom</td>\n",
       "      <td>£24,836/yr</td>\n",
       "      <td>Data Science Apprenticeship Level 6</td>\n",
       "    </tr>\n",
       "    <tr>\n",
       "      <th>1</th>\n",
       "      <td>House of Colour</td>\n",
       "      <td>51-200 employees</td>\n",
       "      <td>NaN</td>\n",
       "      <td>https://www.linkedin.com/jobs/view/3455024299/...</td>\n",
       "      <td>3455024299</td>\n",
       "      <td>Tech &amp; Data Lead - House of Colour - £70k - £8...</td>\n",
       "      <td>Remote</td>\n",
       "      <td>United Kingdom</td>\n",
       "      <td>NaN</td>\n",
       "      <td>Tech &amp; Data Lead</td>\n",
       "    </tr>\n",
       "    <tr>\n",
       "      <th>2</th>\n",
       "      <td>Collinson</td>\n",
       "      <td>1,001-5,000 employees</td>\n",
       "      <td>Consumer Services</td>\n",
       "      <td>https://www.linkedin.com/jobs/view/3468317384/...</td>\n",
       "      <td>3468317384</td>\n",
       "      <td>A perfect opportunity for a management informa...</td>\n",
       "      <td>Hybrid</td>\n",
       "      <td>Haywards Heath, England, United Kingdom</td>\n",
       "      <td>NaN</td>\n",
       "      <td>MI and Data Analyst</td>\n",
       "    </tr>\n",
       "    <tr>\n",
       "      <th>3</th>\n",
       "      <td>Department for Business and Trade</td>\n",
       "      <td>1,001-5,000 employees</td>\n",
       "      <td>Government Administration</td>\n",
       "      <td>https://www.linkedin.com/jobs/view/3489698161/...</td>\n",
       "      <td>3489698161</td>\n",
       "      <td>Location\\n \\nBirmingham, Nottingham\\n \\nAbout ...</td>\n",
       "      <td>On-site</td>\n",
       "      <td>Birmingham, England, United Kingdom</td>\n",
       "      <td>NaN</td>\n",
       "      <td>Data Analyst</td>\n",
       "    </tr>\n",
       "    <tr>\n",
       "      <th>4</th>\n",
       "      <td>Experis UK</td>\n",
       "      <td>501-1,000 employees</td>\n",
       "      <td>Staffing and Recruiting</td>\n",
       "      <td>https://www.linkedin.com/jobs/view/3487079042/...</td>\n",
       "      <td>3487079042</td>\n",
       "      <td>My client is a small start up who has just rec...</td>\n",
       "      <td>NaN</td>\n",
       "      <td>Scotland, United Kingdom</td>\n",
       "      <td>NaN</td>\n",
       "      <td>Data Analyst</td>\n",
       "    </tr>\n",
       "    <tr>\n",
       "      <th>5</th>\n",
       "      <td>Intelligent People Limited</td>\n",
       "      <td>11-50 employees</td>\n",
       "      <td>Staffing and Recruiting</td>\n",
       "      <td>https://www.linkedin.com/jobs/view/3472817379/...</td>\n",
       "      <td>3472817379</td>\n",
       "      <td>We're hiring a Strategic Data Analyst / Senior...</td>\n",
       "      <td>Hybrid</td>\n",
       "      <td>London, England, United Kingdom</td>\n",
       "      <td>£50,000/yr - £70,000/yr</td>\n",
       "      <td>Strategic Data Analyst</td>\n",
       "    </tr>\n",
       "    <tr>\n",
       "      <th>6</th>\n",
       "      <td>Splendid Hospitality Group</td>\n",
       "      <td>1,001-5,000 employees</td>\n",
       "      <td>NaN</td>\n",
       "      <td>https://www.linkedin.com/jobs/view/3468305532/...</td>\n",
       "      <td>3468305532</td>\n",
       "      <td>Splendid Hospitality Group is one of the UKs f...</td>\n",
       "      <td>Hybrid</td>\n",
       "      <td>Watford, England, United Kingdom</td>\n",
       "      <td>NaN</td>\n",
       "      <td>Assistant Data Analyst</td>\n",
       "    </tr>\n",
       "    <tr>\n",
       "      <th>7</th>\n",
       "      <td>Syngenta</td>\n",
       "      <td>10,001+ employees</td>\n",
       "      <td>Farming</td>\n",
       "      <td>https://www.linkedin.com/jobs/view/3482349515/...</td>\n",
       "      <td>3482349515</td>\n",
       "      <td>Syngenta is a world-leading plant science comp...</td>\n",
       "      <td>Hybrid</td>\n",
       "      <td>Bracknell, England, United Kingdom</td>\n",
       "      <td>NaN</td>\n",
       "      <td>Junior IT Business Analyst - Rotational Scheme</td>\n",
       "    </tr>\n",
       "    <tr>\n",
       "      <th>8</th>\n",
       "      <td>Heimdal Satellite Technologies</td>\n",
       "      <td>1-10 employees</td>\n",
       "      <td>NaN</td>\n",
       "      <td>https://www.linkedin.com/jobs/view/3485055768/...</td>\n",
       "      <td>3485055768</td>\n",
       "      <td>We are looking to hire a data scientist to bui...</td>\n",
       "      <td>Remote</td>\n",
       "      <td>United Kingdom</td>\n",
       "      <td>£5,000/month - £12,000/month</td>\n",
       "      <td>Data Scientist / Satellite Data</td>\n",
       "    </tr>\n",
       "    <tr>\n",
       "      <th>9</th>\n",
       "      <td>IT Search and Selection</td>\n",
       "      <td>11-50 employees</td>\n",
       "      <td>IT Services and IT Consulting</td>\n",
       "      <td>https://www.linkedin.com/jobs/view/3478130887/...</td>\n",
       "      <td>3478130887</td>\n",
       "      <td>Data Analyst\\n \\nrequired for a leading nation...</td>\n",
       "      <td>Hybrid</td>\n",
       "      <td>Bristol, England, United Kingdom</td>\n",
       "      <td>NaN</td>\n",
       "      <td>Data Analyst</td>\n",
       "    </tr>\n",
       "    <tr>\n",
       "      <th>10</th>\n",
       "      <td>GodmodeHQ</td>\n",
       "      <td>1-10 employees</td>\n",
       "      <td>NaN</td>\n",
       "      <td>https://www.linkedin.com/jobs/view/3487446301/...</td>\n",
       "      <td>3487446301</td>\n",
       "      <td>Engineering at GodmodeHQ\\n \\nIn web2, the data...</td>\n",
       "      <td>Hybrid</td>\n",
       "      <td>London, England, United Kingdom</td>\n",
       "      <td>NaN</td>\n",
       "      <td>Data Science Engineer</td>\n",
       "    </tr>\n",
       "    <tr>\n",
       "      <th>11</th>\n",
       "      <td>Roleshare</td>\n",
       "      <td>1-10 employees</td>\n",
       "      <td>Technology, Information and Internet</td>\n",
       "      <td>https://www.linkedin.com/jobs/view/3470512860/...</td>\n",
       "      <td>3470512860</td>\n",
       "      <td>This role has been identified as \"job share fr...</td>\n",
       "      <td>On-site</td>\n",
       "      <td>Birmingham, England, United Kingdom</td>\n",
       "      <td>NaN</td>\n",
       "      <td>Data Analyst - Part-Time, Job-Share and Full-Time</td>\n",
       "    </tr>\n",
       "    <tr>\n",
       "      <th>12</th>\n",
       "      <td>BY TERRY</td>\n",
       "      <td>51-200 employees</td>\n",
       "      <td>Personal Care Product Manufacturing</td>\n",
       "      <td>https://www.linkedin.com/jobs/view/3466871190/...</td>\n",
       "      <td>3466871190</td>\n",
       "      <td>BY TERRY is an international luxury cosmetics ...</td>\n",
       "      <td>On-site</td>\n",
       "      <td>London, England, United Kingdom</td>\n",
       "      <td>NaN</td>\n",
       "      <td>Management Accountant</td>\n",
       "    </tr>\n",
       "    <tr>\n",
       "      <th>13</th>\n",
       "      <td>TransUnion</td>\n",
       "      <td>5,001-10,000 employees</td>\n",
       "      <td>IT Services and IT Consulting</td>\n",
       "      <td>https://www.linkedin.com/jobs/view/3437168127/...</td>\n",
       "      <td>3437168127</td>\n",
       "      <td>TransUnion's Job Applicant Privacy Notice\\n \\n...</td>\n",
       "      <td>Hybrid</td>\n",
       "      <td>Leeds, England, United Kingdom</td>\n",
       "      <td>NaN</td>\n",
       "      <td>Analytics &amp; Data Science Opportunities</td>\n",
       "    </tr>\n",
       "    <tr>\n",
       "      <th>14</th>\n",
       "      <td>AMPYR Solar Europe</td>\n",
       "      <td>11-50 employees</td>\n",
       "      <td>NaN</td>\n",
       "      <td>https://www.linkedin.com/jobs/view/3481800255/...</td>\n",
       "      <td>3481800255</td>\n",
       "      <td>AMPYR Solar Europe (ASE) was created in 2021 t...</td>\n",
       "      <td>Hybrid</td>\n",
       "      <td>London, England, United Kingdom</td>\n",
       "      <td>NaN</td>\n",
       "      <td>Management Accountant</td>\n",
       "    </tr>\n",
       "    <tr>\n",
       "      <th>15</th>\n",
       "      <td>wejo</td>\n",
       "      <td>201-500 employees</td>\n",
       "      <td>IT Services and IT Consulting</td>\n",
       "      <td>https://www.linkedin.com/jobs/view/3475793082/...</td>\n",
       "      <td>3475793082</td>\n",
       "      <td>Data Analytics Engineer | 100% Remote\\n \\nOVER...</td>\n",
       "      <td>Remote</td>\n",
       "      <td>United Kingdom</td>\n",
       "      <td>NaN</td>\n",
       "      <td>Data Analytics Engineer</td>\n",
       "    </tr>\n",
       "    <tr>\n",
       "      <th>16</th>\n",
       "      <td>Areti Group</td>\n",
       "      <td>1-10 employees</td>\n",
       "      <td>Staffing and Recruiting</td>\n",
       "      <td>https://www.linkedin.com/jobs/view/3487569376/...</td>\n",
       "      <td>3487569376</td>\n",
       "      <td>Our client is looking to hire a\\n \\nData Produ...</td>\n",
       "      <td>Hybrid</td>\n",
       "      <td>London Area, United Kingdom</td>\n",
       "      <td>NaN</td>\n",
       "      <td>🌳🌳🌳 Junior Data Engineer - SAS/Python🌳🌳🌳</td>\n",
       "    </tr>\n",
       "    <tr>\n",
       "      <th>17</th>\n",
       "      <td>Clean Air Fund</td>\n",
       "      <td>11-50 employees</td>\n",
       "      <td>NaN</td>\n",
       "      <td>https://www.linkedin.com/jobs/view/3490027929/...</td>\n",
       "      <td>3490027929</td>\n",
       "      <td>Interested in this role You can find all the r...</td>\n",
       "      <td>On-site</td>\n",
       "      <td>London, England, United Kingdom</td>\n",
       "      <td>NaN</td>\n",
       "      <td>Senior Specialist - Data</td>\n",
       "    </tr>\n",
       "    <tr>\n",
       "      <th>18</th>\n",
       "      <td>Wintermute</td>\n",
       "      <td>51-200 employees</td>\n",
       "      <td>Financial Services</td>\n",
       "      <td>https://www.linkedin.com/jobs/view/3484207839/...</td>\n",
       "      <td>3484207839</td>\n",
       "      <td>About Wintermute\\n \\nAt Wintermute our mission...</td>\n",
       "      <td>Hybrid</td>\n",
       "      <td>London, England, United Kingdom</td>\n",
       "      <td>NaN</td>\n",
       "      <td>Graduate Algorithmic Trader</td>\n",
       "    </tr>\n",
       "    <tr>\n",
       "      <th>19</th>\n",
       "      <td>InterQuest Group</td>\n",
       "      <td>201-500 employees</td>\n",
       "      <td>Staffing and Recruiting</td>\n",
       "      <td>https://www.linkedin.com/jobs/view/3474587279/...</td>\n",
       "      <td>3474587279</td>\n",
       "      <td>**Data Analyst/Senior Data Analyst x 3 - Chall...</td>\n",
       "      <td>Hybrid</td>\n",
       "      <td>Bristol, England, United Kingdom</td>\n",
       "      <td>NaN</td>\n",
       "      <td>Data Analyst</td>\n",
       "    </tr>\n",
       "    <tr>\n",
       "      <th>20</th>\n",
       "      <td>Data Inc</td>\n",
       "      <td>11-50 employees</td>\n",
       "      <td>Information Technology &amp; Services</td>\n",
       "      <td>https://www.linkedin.com/jobs/view/3482734431/...</td>\n",
       "      <td>3482734431</td>\n",
       "      <td>Demonstrated experience of writing Business Re...</td>\n",
       "      <td>Hybrid</td>\n",
       "      <td>London, England, United Kingdom</td>\n",
       "      <td>NaN</td>\n",
       "      <td>Credit Risk Business Analyst</td>\n",
       "    </tr>\n",
       "    <tr>\n",
       "      <th>21</th>\n",
       "      <td>MSX International</td>\n",
       "      <td>5,001-10,000 employees</td>\n",
       "      <td>Motor Vehicle Manufacturing</td>\n",
       "      <td>https://www.linkedin.com/jobs/view/3478602453/...</td>\n",
       "      <td>3478602453</td>\n",
       "      <td>Data Analyst\\nUp to £30,000 per year\\n40 Hours...</td>\n",
       "      <td>Hybrid</td>\n",
       "      <td>Warwick, England, United Kingdom</td>\n",
       "      <td>£30,000/yr</td>\n",
       "      <td>Data Analyst</td>\n",
       "    </tr>\n",
       "    <tr>\n",
       "      <th>22</th>\n",
       "      <td>Chumley</td>\n",
       "      <td>11-50 employees</td>\n",
       "      <td>NaN</td>\n",
       "      <td>https://www.linkedin.com/jobs/view/3443658156/...</td>\n",
       "      <td>3443658156</td>\n",
       "      <td>🚀🚀 'Data Analyst' 🚀🚀\\n \\n£50K-£60K - London, 2...</td>\n",
       "      <td>Hybrid</td>\n",
       "      <td>Chessington, England, United Kingdom</td>\n",
       "      <td>NaN</td>\n",
       "      <td>Data Analyst</td>\n",
       "    </tr>\n",
       "    <tr>\n",
       "      <th>23</th>\n",
       "      <td>RenewableUK</td>\n",
       "      <td>11-50 employees</td>\n",
       "      <td>NaN</td>\n",
       "      <td>https://www.linkedin.com/jobs/view/3475040640/...</td>\n",
       "      <td>3475040640</td>\n",
       "      <td>EnergyPulse Analyst\\nPermanent – £28,000 to £3...</td>\n",
       "      <td>Hybrid</td>\n",
       "      <td>London, England, United Kingdom</td>\n",
       "      <td>NaN</td>\n",
       "      <td>Data Analyst</td>\n",
       "    </tr>\n",
       "  </tbody>\n",
       "</table>\n",
       "</div>"
      ],
      "text/plain": [
       "                              company                employee  \\\n",
       "0      Government Statistical Service   1,001-5,000 employees   \n",
       "1                     House of Colour        51-200 employees   \n",
       "2                           Collinson   1,001-5,000 employees   \n",
       "3   Department for Business and Trade   1,001-5,000 employees   \n",
       "4                          Experis UK     501-1,000 employees   \n",
       "5          Intelligent People Limited         11-50 employees   \n",
       "6          Splendid Hospitality Group   1,001-5,000 employees   \n",
       "7                            Syngenta       10,001+ employees   \n",
       "8      Heimdal Satellite Technologies          1-10 employees   \n",
       "9             IT Search and Selection         11-50 employees   \n",
       "10                          GodmodeHQ          1-10 employees   \n",
       "11                          Roleshare          1-10 employees   \n",
       "12                           BY TERRY        51-200 employees   \n",
       "13                         TransUnion  5,001-10,000 employees   \n",
       "14                 AMPYR Solar Europe         11-50 employees   \n",
       "15                               wejo       201-500 employees   \n",
       "16                        Areti Group          1-10 employees   \n",
       "17                     Clean Air Fund         11-50 employees   \n",
       "18                         Wintermute        51-200 employees   \n",
       "19                   InterQuest Group       201-500 employees   \n",
       "20                           Data Inc         11-50 employees   \n",
       "21                  MSX International  5,001-10,000 employees   \n",
       "22                            Chumley         11-50 employees   \n",
       "23                        RenewableUK         11-50 employees   \n",
       "\n",
       "                            company_type  \\\n",
       "0              Government Administration   \n",
       "1                                    NaN   \n",
       "2                      Consumer Services   \n",
       "3              Government Administration   \n",
       "4                Staffing and Recruiting   \n",
       "5                Staffing and Recruiting   \n",
       "6                                    NaN   \n",
       "7                                Farming   \n",
       "8                                    NaN   \n",
       "9          IT Services and IT Consulting   \n",
       "10                                   NaN   \n",
       "11  Technology, Information and Internet   \n",
       "12   Personal Care Product Manufacturing   \n",
       "13         IT Services and IT Consulting   \n",
       "14                                   NaN   \n",
       "15         IT Services and IT Consulting   \n",
       "16               Staffing and Recruiting   \n",
       "17                                   NaN   \n",
       "18                    Financial Services   \n",
       "19               Staffing and Recruiting   \n",
       "20     Information Technology & Services   \n",
       "21           Motor Vehicle Manufacturing   \n",
       "22                                   NaN   \n",
       "23                                   NaN   \n",
       "\n",
       "                                                 link          id  \\\n",
       "0   https://www.linkedin.com/jobs/view/3472811784/...  3472811784   \n",
       "1   https://www.linkedin.com/jobs/view/3455024299/...  3455024299   \n",
       "2   https://www.linkedin.com/jobs/view/3468317384/...  3468317384   \n",
       "3   https://www.linkedin.com/jobs/view/3489698161/...  3489698161   \n",
       "4   https://www.linkedin.com/jobs/view/3487079042/...  3487079042   \n",
       "5   https://www.linkedin.com/jobs/view/3472817379/...  3472817379   \n",
       "6   https://www.linkedin.com/jobs/view/3468305532/...  3468305532   \n",
       "7   https://www.linkedin.com/jobs/view/3482349515/...  3482349515   \n",
       "8   https://www.linkedin.com/jobs/view/3485055768/...  3485055768   \n",
       "9   https://www.linkedin.com/jobs/view/3478130887/...  3478130887   \n",
       "10  https://www.linkedin.com/jobs/view/3487446301/...  3487446301   \n",
       "11  https://www.linkedin.com/jobs/view/3470512860/...  3470512860   \n",
       "12  https://www.linkedin.com/jobs/view/3466871190/...  3466871190   \n",
       "13  https://www.linkedin.com/jobs/view/3437168127/...  3437168127   \n",
       "14  https://www.linkedin.com/jobs/view/3481800255/...  3481800255   \n",
       "15  https://www.linkedin.com/jobs/view/3475793082/...  3475793082   \n",
       "16  https://www.linkedin.com/jobs/view/3487569376/...  3487569376   \n",
       "17  https://www.linkedin.com/jobs/view/3490027929/...  3490027929   \n",
       "18  https://www.linkedin.com/jobs/view/3484207839/...  3484207839   \n",
       "19  https://www.linkedin.com/jobs/view/3474587279/...  3474587279   \n",
       "20  https://www.linkedin.com/jobs/view/3482734431/...  3482734431   \n",
       "21  https://www.linkedin.com/jobs/view/3478602453/...  3478602453   \n",
       "22  https://www.linkedin.com/jobs/view/3443658156/...  3443658156   \n",
       "23  https://www.linkedin.com/jobs/view/3475040640/...  3475040640   \n",
       "\n",
       "                                             job_desc job_type  \\\n",
       "0   Data Science Degree Apprenticeship Level 6 - W...   Hybrid   \n",
       "1   Tech & Data Lead - House of Colour - £70k - £8...   Remote   \n",
       "2   A perfect opportunity for a management informa...   Hybrid   \n",
       "3   Location\\n \\nBirmingham, Nottingham\\n \\nAbout ...  On-site   \n",
       "4   My client is a small start up who has just rec...      NaN   \n",
       "5   We're hiring a Strategic Data Analyst / Senior...   Hybrid   \n",
       "6   Splendid Hospitality Group is one of the UKs f...   Hybrid   \n",
       "7   Syngenta is a world-leading plant science comp...   Hybrid   \n",
       "8   We are looking to hire a data scientist to bui...   Remote   \n",
       "9   Data Analyst\\n \\nrequired for a leading nation...   Hybrid   \n",
       "10  Engineering at GodmodeHQ\\n \\nIn web2, the data...   Hybrid   \n",
       "11  This role has been identified as \"job share fr...  On-site   \n",
       "12  BY TERRY is an international luxury cosmetics ...  On-site   \n",
       "13  TransUnion's Job Applicant Privacy Notice\\n \\n...   Hybrid   \n",
       "14  AMPYR Solar Europe (ASE) was created in 2021 t...   Hybrid   \n",
       "15  Data Analytics Engineer | 100% Remote\\n \\nOVER...   Remote   \n",
       "16  Our client is looking to hire a\\n \\nData Produ...   Hybrid   \n",
       "17  Interested in this role You can find all the r...  On-site   \n",
       "18  About Wintermute\\n \\nAt Wintermute our mission...   Hybrid   \n",
       "19  **Data Analyst/Senior Data Analyst x 3 - Chall...   Hybrid   \n",
       "20  Demonstrated experience of writing Business Re...   Hybrid   \n",
       "21  Data Analyst\\nUp to £30,000 per year\\n40 Hours...   Hybrid   \n",
       "22  🚀🚀 'Data Analyst' 🚀🚀\\n \\n£50K-£60K - London, 2...   Hybrid   \n",
       "23  EnergyPulse Analyst\\nPermanent – £28,000 to £3...   Hybrid   \n",
       "\n",
       "                                   location                        salary  \\\n",
       "0                   England, United Kingdom                    £24,836/yr   \n",
       "1                            United Kingdom                           NaN   \n",
       "2   Haywards Heath, England, United Kingdom                           NaN   \n",
       "3       Birmingham, England, United Kingdom                           NaN   \n",
       "4                  Scotland, United Kingdom                           NaN   \n",
       "5           London, England, United Kingdom       £50,000/yr - £70,000/yr   \n",
       "6          Watford, England, United Kingdom                           NaN   \n",
       "7        Bracknell, England, United Kingdom                           NaN   \n",
       "8                            United Kingdom  £5,000/month - £12,000/month   \n",
       "9          Bristol, England, United Kingdom                           NaN   \n",
       "10          London, England, United Kingdom                           NaN   \n",
       "11      Birmingham, England, United Kingdom                           NaN   \n",
       "12          London, England, United Kingdom                           NaN   \n",
       "13           Leeds, England, United Kingdom                           NaN   \n",
       "14          London, England, United Kingdom                           NaN   \n",
       "15                           United Kingdom                           NaN   \n",
       "16              London Area, United Kingdom                           NaN   \n",
       "17          London, England, United Kingdom                           NaN   \n",
       "18          London, England, United Kingdom                           NaN   \n",
       "19         Bristol, England, United Kingdom                           NaN   \n",
       "20          London, England, United Kingdom                           NaN   \n",
       "21         Warwick, England, United Kingdom                    £30,000/yr   \n",
       "22     Chessington, England, United Kingdom                           NaN   \n",
       "23          London, England, United Kingdom                           NaN   \n",
       "\n",
       "                                                title  \n",
       "0                 Data Science Apprenticeship Level 6  \n",
       "1                                    Tech & Data Lead  \n",
       "2                                 MI and Data Analyst  \n",
       "3                                        Data Analyst  \n",
       "4                                        Data Analyst  \n",
       "5                              Strategic Data Analyst  \n",
       "6                              Assistant Data Analyst  \n",
       "7      Junior IT Business Analyst - Rotational Scheme  \n",
       "8                     Data Scientist / Satellite Data  \n",
       "9                                        Data Analyst  \n",
       "10                              Data Science Engineer  \n",
       "11  Data Analyst - Part-Time, Job-Share and Full-Time  \n",
       "12                              Management Accountant  \n",
       "13             Analytics & Data Science Opportunities  \n",
       "14                              Management Accountant  \n",
       "15                            Data Analytics Engineer  \n",
       "16           🌳🌳🌳 Junior Data Engineer - SAS/Python🌳🌳🌳  \n",
       "17                           Senior Specialist - Data  \n",
       "18                        Graduate Algorithmic Trader  \n",
       "19                                       Data Analyst  \n",
       "20                       Credit Risk Business Analyst  \n",
       "21                                       Data Analyst  \n",
       "22                                       Data Analyst  \n",
       "23                                       Data Analyst  "
      ]
     },
     "execution_count": 11,
     "metadata": {},
     "output_type": "execute_result"
    }
   ],
   "source": [
    "test_job"
   ]
  },
  {
   "cell_type": "code",
   "execution_count": 12,
   "metadata": {},
   "outputs": [
    {
     "ename": "KeyboardInterrupt",
     "evalue": "",
     "output_type": "error",
     "traceback": [
      "\u001b[0;31m---------------------------------------------------------------------------\u001b[0m",
      "\u001b[0;31mKeyboardInterrupt\u001b[0m                         Traceback (most recent call last)",
      "Cell \u001b[0;32mIn[12], line 1\u001b[0m\n\u001b[0;32m----> 1\u001b[0m test_skill, test_job \u001b[39m=\u001b[39m scrape_page(driver\u001b[39m=\u001b[39;49mdriver)\n",
      "File \u001b[0;32m~/Documents/myblog/posts/linkedin/linkedin-scape/scraper.py:315\u001b[0m, in \u001b[0;36mscrape_page\u001b[0;34m(driver, pbar)\u001b[0m\n\u001b[1;32m    305\u001b[0m def scrape_page(driver, pbar = None):\n\u001b[1;32m    306\u001b[0m     \"\"\"\n\u001b[1;32m    307\u001b[0m     Helper function to scrape all job posting in a single Linkedin job posting\n\u001b[1;32m    308\u001b[0m     page. Utilized Class of linkedin_soup\n\u001b[0;32m   (...)\u001b[0m\n\u001b[1;32m    311\u001b[0m     Output: tuple, tuple containing dataframe containing skill information and job details.\n\u001b[1;32m    312\u001b[0m     \"\"\"\n\u001b[1;32m    313\u001b[0m     # WebDriverWait(driver, 10).until(EC.presence_of_element_located((By.XPATH, \n\u001b[1;32m    314\u001b[0m     #                         \"//ul[contains(@class, 'scaffold-layout__list-container')]\")))\n\u001b[0;32m--> 315\u001b[0m \n\u001b[1;32m    316\u001b[0m     # Wait until page is fully loaded\n\u001b[1;32m    317\u001b[0m     time.sleep(30)\n\u001b[1;32m    319\u001b[0m     # Acquiring WebElement of all job posting existing on page.\n",
      "\u001b[0;31mKeyboardInterrupt\u001b[0m: "
     ]
    }
   ],
   "source": [
    "test_skill, test_job = scrape_page(driver=driver)"
   ]
  },
  {
   "cell_type": "code",
   "execution_count": 15,
   "metadata": {},
   "outputs": [],
   "source": [
    "driver.close()"
   ]
  },
  {
   "cell_type": "code",
   "execution_count": 21,
   "metadata": {},
   "outputs": [
    {
     "name": "stdout",
     "output_type": "stream",
     "text": [
      "HIT\n"
     ]
    }
   ],
   "source": [
    "test = None\n",
    "if ~(isinstance(test, type(None))):\n",
    "    print(\"HIT\")"
   ]
  },
  {
   "cell_type": "code",
   "execution_count": 35,
   "metadata": {},
   "outputs": [
    {
     "data": {
      "text/plain": [
       "True"
      ]
     },
     "execution_count": 35,
     "metadata": {},
     "output_type": "execute_result"
    }
   ],
   "source": [
    "\n",
    "not False"
   ]
  },
  {
   "cell_type": "code",
   "execution_count": 33,
   "metadata": {},
   "outputs": [
    {
     "ename": "SyntaxError",
     "evalue": "invalid syntax (1558490560.py, line 1)",
     "output_type": "error",
     "traceback": [
      "\u001b[0;36m  Cell \u001b[0;32mIn[33], line 1\u001b[0;36m\u001b[0m\n\u001b[0;31m    (~)\u001b[0m\n\u001b[0m      ^\u001b[0m\n\u001b[0;31mSyntaxError\u001b[0m\u001b[0;31m:\u001b[0m invalid syntax\n"
     ]
    }
   ],
   "source": [
    "(~)"
   ]
  },
  {
   "cell_type": "code",
   "execution_count": 36,
   "metadata": {},
   "outputs": [
    {
     "ename": "TypeError",
     "evalue": "bad operand type for unary ~: 'list'",
     "output_type": "error",
     "traceback": [
      "\u001b[0;31m---------------------------------------------------------------------------\u001b[0m",
      "\u001b[0;31mTypeError\u001b[0m                                 Traceback (most recent call last)",
      "Cell \u001b[0;32mIn[36], line 1\u001b[0m\n\u001b[0;32m----> 1\u001b[0m \u001b[39m~\u001b[39;49m[\u001b[39mTrue\u001b[39;49;00m]\n",
      "\u001b[0;31mTypeError\u001b[0m: bad operand type for unary ~: 'list'"
     ]
    }
   ],
   "source": [
    "~[True]"
   ]
  },
  {
   "cell_type": "code",
   "execution_count": 37,
   "metadata": {},
   "outputs": [
    {
     "data": {
      "text/plain": [
       "1"
      ]
     },
     "execution_count": 37,
     "metadata": {},
     "output_type": "execute_result"
    }
   ],
   "source": [
    "int(True)"
   ]
  },
  {
   "cell_type": "code",
   "execution_count": 38,
   "metadata": {},
   "outputs": [
    {
     "data": {
      "text/plain": [
       "-2"
      ]
     },
     "execution_count": 38,
     "metadata": {},
     "output_type": "execute_result"
    }
   ],
   "source": [
    "~1"
   ]
  },
  {
   "cell_type": "code",
   "execution_count": 41,
   "metadata": {},
   "outputs": [
    {
     "data": {
      "text/plain": [
       "-2"
      ]
     },
     "execution_count": 41,
     "metadata": {},
     "output_type": "execute_result"
    }
   ],
   "source": [
    "~True"
   ]
  },
  {
   "cell_type": "code",
   "execution_count": 40,
   "metadata": {},
   "outputs": [
    {
     "data": {
      "text/plain": [
       "'~self'"
      ]
     },
     "execution_count": 40,
     "metadata": {},
     "output_type": "execute_result"
    }
   ],
   "source": [
    "int.__invert__.__doc__"
   ]
  },
  {
   "cell_type": "code",
   "execution_count": 1,
   "metadata": {},
   "outputs": [
    {
     "name": "stderr",
     "output_type": "stream",
     "text": [
      "/home/shiya/anaconda3/envs/web-scrape/lib/python3.8/site-packages/tqdm/auto.py:22: TqdmWarning: IProgress not found. Please update jupyter and ipywidgets. See https://ipywidgets.readthedocs.io/en/stable/user_install.html\n",
      "  from .autonotebook import tqdm as notebook_tqdm\n"
     ]
    }
   ],
   "source": [
    "\n",
    "import time\n",
    "\n",
    "from tqdm.auto import tqdm\n",
    "import numpy as np\n",
    "import pandas as pd\n",
    "import selenium\n",
    "from bs4 import BeautifulSoup as bs\n",
    "from selenium import webdriver\n",
    "from selenium.common.exceptions import (NoSuchElementException,\n",
    "                                        StaleElementReferenceException,\n",
    "                                        TimeoutException)\n",
    "from selenium.webdriver.common.action_chains import ActionChains\n",
    "from selenium.webdriver.common.by import By\n",
    "from selenium.webdriver.common.keys import Keys\n",
    "from selenium.webdriver.support import expected_conditions as EC\n",
    "from selenium.webdriver.support.wait import WebDriverWait\n",
    "\n",
    "import re"
   ]
  },
  {
   "cell_type": "code",
   "execution_count": 2,
   "metadata": {},
   "outputs": [],
   "source": [
    "driver = webdriver.Chrome()"
   ]
  },
  {
   "cell_type": "code",
   "execution_count": 3,
   "metadata": {},
   "outputs": [],
   "source": [
    "driver.get('https://www.linkedin.com')"
   ]
  },
  {
   "cell_type": "code",
   "execution_count": 4,
   "metadata": {},
   "outputs": [],
   "source": [
    "driver.get('https://www.linkedin.com/jobs')"
   ]
  },
  {
   "cell_type": "code",
   "execution_count": 5,
   "metadata": {},
   "outputs": [],
   "source": [
    "driver.find_element(By.XPATH, \"//span/button[contains(@aria-label, 'Date posted filter')]\").click()"
   ]
  },
  {
   "cell_type": "code",
   "execution_count": 8,
   "metadata": {},
   "outputs": [],
   "source": [
    "driver.find_element(By.XPATH, \"//li/label[contains(@for, 'r604800')]\").click()"
   ]
  },
  {
   "cell_type": "code",
   "execution_count": 14,
   "metadata": {},
   "outputs": [],
   "source": [
    "driver.find_element(By.XPATH, \"//label[@for='timePostedRange-']\").click()"
   ]
  },
  {
   "cell_type": "code",
   "execution_count": 16,
   "metadata": {},
   "outputs": [],
   "source": [
    "\n",
    "driver.find_element(By.XPATH, \"//li/label[contains(@for, 'r2592000')]\").click()"
   ]
  },
  {
   "cell_type": "code",
   "execution_count": 17,
   "metadata": {},
   "outputs": [],
   "source": [
    "driver.find_element(By.XPATH, \"//button[contains(@aria-label, 'Apply current filter')]\").click()"
   ]
  },
  {
   "cell_type": "code",
   "execution_count": null,
   "metadata": {},
   "outputs": [],
   "source": []
  }
 ],
 "metadata": {
  "kernelspec": {
   "display_name": "web-scrape",
   "language": "python",
   "name": "python3"
  },
  "language_info": {
   "codemirror_mode": {
    "name": "ipython",
    "version": 3
   },
   "file_extension": ".py",
   "mimetype": "text/x-python",
   "name": "python",
   "nbconvert_exporter": "python",
   "pygments_lexer": "ipython3",
   "version": "3.8.16"
  },
  "orig_nbformat": 4,
  "vscode": {
   "interpreter": {
    "hash": "4f1d3b173b9b775dff81d90e6412d1bd768e703d4c0fdde8084be4ea16c2cf28"
   }
  }
 },
 "nbformat": 4,
 "nbformat_minor": 2
}
