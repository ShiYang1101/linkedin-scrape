{
 "cells": [
  {
   "cell_type": "code",
   "execution_count": 1,
   "metadata": {},
   "outputs": [],
   "source": [
    "import time\n",
    "\n",
    "import numpy as np\n",
    "import pandas as pd\n",
    "import selenium\n",
    "from bs4 import BeautifulSoup as bs\n",
    "from selenium import webdriver\n",
    "from selenium.common.exceptions import (NoSuchElementException,\n",
    "                                        StaleElementReferenceException,\n",
    "                                        TimeoutException)\n",
    "from selenium.webdriver.common.action_chains import ActionChains\n",
    "from selenium.webdriver.common.by import By\n",
    "from selenium.webdriver.common.keys import Keys\n",
    "from selenium.webdriver.support import expected_conditions as EC\n",
    "from selenium.webdriver.support.wait import WebDriverWait"
   ]
  },
  {
   "cell_type": "code",
   "execution_count": 2,
   "metadata": {},
   "outputs": [],
   "source": [
    "driver = webdriver.Chrome()"
   ]
  },
  {
   "cell_type": "code",
   "execution_count": 3,
   "metadata": {},
   "outputs": [],
   "source": [
    "driver.get('https://www.linkedin.com')"
   ]
  },
  {
   "cell_type": "code",
   "execution_count": 4,
   "metadata": {},
   "outputs": [],
   "source": [
    "with open('./login_credential.txt') as f:\n",
    "    lines = f.read().splitlines()"
   ]
  },
  {
   "cell_type": "code",
   "execution_count": 5,
   "metadata": {},
   "outputs": [],
   "source": [
    "username = driver.find_element(By.ID, 'session_key')\n",
    "password = driver.find_element(By.ID, 'session_password')"
   ]
  },
  {
   "cell_type": "code",
   "execution_count": 6,
   "metadata": {},
   "outputs": [],
   "source": [
    "username.send_keys(lines[0])\n",
    "\n",
    "time.sleep(5)\n",
    "password.send_keys(lines[1])"
   ]
  },
  {
   "cell_type": "code",
   "execution_count": 7,
   "metadata": {},
   "outputs": [],
   "source": [
    "driver.find_element(By.CLASS_NAME, 'sign-in-form__submit-button').click()"
   ]
  },
  {
   "cell_type": "code",
   "execution_count": 8,
   "metadata": {},
   "outputs": [],
   "source": [
    "driver.get('https://linkedin.com/jobs')\n",
    "time.sleep(10)"
   ]
  },
  {
   "cell_type": "code",
   "execution_count": 9,
   "metadata": {},
   "outputs": [],
   "source": [
    "job_search = driver.find_element(By.XPATH, '//*[@id=\"jobs-search-box-keyword-id-ember25\"]')\n",
    "job_search.send_keys('data')\n",
    "\n",
    "time.sleep(2)"
   ]
  },
  {
   "cell_type": "code",
   "execution_count": 10,
   "metadata": {},
   "outputs": [],
   "source": [
    "location_search = driver.find_element(By.XPATH, '//*[@id=\"jobs-search-box-location-id-ember25\"]')\n",
    "location_search.send_keys('United Kingdom')\n",
    "\n",
    "time.sleep(2)"
   ]
  },
  {
   "cell_type": "code",
   "execution_count": 11,
   "metadata": {},
   "outputs": [],
   "source": [
    "job_search.send_keys(Keys.RETURN)\n",
    "time.sleep(5)"
   ]
  },
  {
   "cell_type": "code",
   "execution_count": 12,
   "metadata": {},
   "outputs": [],
   "source": [
    "def get_job_elems(driver):\n",
    "    return driver.find_elements(By.XPATH, '//*[@id=\"main\"]/div/section[1]/div/ul/*')\n",
    "\n",
    "job_list = driver.find_elements(By.XPATH, '//*[@id=\"main\"]/div/section[1]/div/ul/*')"
   ]
  },
  {
   "cell_type": "code",
   "execution_count": null,
   "metadata": {},
   "outputs": [],
   "source": []
  },
  {
   "cell_type": "code",
   "execution_count": 13,
   "metadata": {},
   "outputs": [],
   "source": [
    "driver.refresh()"
   ]
  },
  {
   "cell_type": "code",
   "execution_count": 14,
   "metadata": {},
   "outputs": [],
   "source": [
    "\n",
    "job_list = driver.find_elements(By.XPATH, '//*[@id=\"main\"]/div/section[1]/div/ul/*')"
   ]
  },
  {
   "cell_type": "code",
   "execution_count": 15,
   "metadata": {},
   "outputs": [
    {
     "data": {
      "text/plain": [
       "0"
      ]
     },
     "execution_count": 15,
     "metadata": {},
     "output_type": "execute_result"
    }
   ],
   "source": [
    "len(job_list)"
   ]
  },
  {
   "cell_type": "code",
   "execution_count": 16,
   "metadata": {},
   "outputs": [],
   "source": [
    "import re\n",
    "\n",
    "def get_id(driver):\n",
    "    link_elem = driver.find_element(By.XPATH, \n",
    "                        '//div[contains(@class, \"jobs-unified-top-card t-14\")]//a[@href]')\n",
    "    link = link_elem.get_attribute('href')\n",
    "    _id = re.findall('(?<=view/)(.*)(?=/)', link)\n",
    "\n",
    "    assert len(_id) == 1, \"Multiple Id found for same job posting!\"\n",
    "\n",
    "    return int(_id[0]) "
   ]
  },
  {
   "cell_type": "code",
   "execution_count": 38,
   "metadata": {},
   "outputs": [],
   "source": [
    "def get_skills(driver):\n",
    "    time.sleep(0.5)\n",
    "    try:\n",
    "        WebDriverWait(driver, 5).until(\n",
    "            EC.presence_of_all_elements_located((By.XPATH, \n",
    "                        \"//button[contains(@aria-label, 'View strong skill match modal')]\"))\n",
    "        )\n",
    "        try:\n",
    "            driver.find_element(By.XPATH, \n",
    "                            \"//button[contains(@aria-label, 'View strong skill match modal')]\").click()\n",
    "        except StaleElementReferenceException:\n",
    "            driver.find_element(By.XPATH, \n",
    "                            \"//button[contains(@aria-label, 'View strong skill match modal')]\").click()\n",
    "    except TimeoutException:\n",
    "        return False\n",
    "\n",
    "    try:\n",
    "        WebDriverWait(driver, 10).until(\n",
    "            EC.presence_of_all_elements_located((By.XPATH, \n",
    "                        \"//ul[contains(@class, 'job-details-skill-match-status-list')]\"))\n",
    "        )\n",
    "    except TimeoutException:\n",
    "        return\n",
    "\n",
    "    skill = driver.find_elements(By.XPATH, \n",
    "                            \"//ul[contains(@class, 'job-details-skill-match-status-list')]\")\n",
    "\n",
    "    text = skill[0].text.replace(\"Add\", '')\n",
    "\n",
    "    driver.find_element(By.XPATH, \"//div[contains(@aria-labelledby, 'jobs-skill-match-modal-header')]//button\").click()\n",
    "\n",
    "    return [skill for skill in text.split(\"\\n\") if skill != '']\n",
    "    \n",
    "    "
   ]
  },
  {
   "cell_type": "code",
   "execution_count": 18,
   "metadata": {},
   "outputs": [],
   "source": [
    "def generate_skill_df(elem):\n",
    "    action = ActionChains(driver)\n",
    "    action.move_to_element(elem).perform()\n",
    "    elem.click()\n",
    "    _id = get_id(elem)\n",
    "    _skills = get_skills(driver)\n",
    "\n",
    "    if _skills == False:\n",
    "        return \n",
    "\n",
    "    _df = pd.DataFrame({'id': [_id for x in range(len(_skills))], \\\n",
    "                        'skills': _skills})\n",
    "\n",
    "    return(_df)"
   ]
  },
  {
   "cell_type": "code",
   "execution_count": 19,
   "metadata": {},
   "outputs": [],
   "source": [
    "def generate_all_skill_df(driver, elems):\n",
    "    df_list = []\n",
    "    for elem in elems:\n",
    "        _df = generate_skill_df(elem)\n",
    "        df_list.append(_df)\n",
    "    \n",
    "    df_list = [df for df in df_list if ~isinstance(df, type(None))]\n",
    "    return pd.concat(df_list)"
   ]
  },
  {
   "cell_type": "code",
   "execution_count": 20,
   "metadata": {},
   "outputs": [],
   "source": [
    "job_list = get_job_elems(driver)\n",
    "# test_all = generate_all_skill_df(driver, job_list)"
   ]
  },
  {
   "cell_type": "code",
   "execution_count": 21,
   "metadata": {},
   "outputs": [
    {
     "data": {
      "text/plain": [
       "False"
      ]
     },
     "execution_count": 21,
     "metadata": {},
     "output_type": "execute_result"
    }
   ],
   "source": [
    "get_skills(driver)"
   ]
  },
  {
   "cell_type": "code",
   "execution_count": 22,
   "metadata": {},
   "outputs": [
    {
     "data": {
      "text/plain": [
       "('11-50 employees',)"
      ]
     },
     "execution_count": 22,
     "metadata": {},
     "output_type": "execute_result"
    }
   ],
   "source": [
    "soup = bs(driver.page_source)\n",
    "test = soup.find_all(class_=re.compile('jobs-unified-top-card__job-insight'))\n",
    "tuple([y for y in [x.find(string=re.compile('.*employees.*')) for x in test] if y][0].split('·') )"
   ]
  },
  {
   "cell_type": "code",
   "execution_count": 23,
   "metadata": {},
   "outputs": [],
   "source": [
    "def scrape_job(driver):\n",
    "    soup = bs(driver.page_source)"
   ]
  },
  {
   "cell_type": "code",
   "execution_count": 24,
   "metadata": {},
   "outputs": [],
   "source": [
    "def set_execute(func):\n",
    "    func.execute = True\n",
    "    return func\n",
    "\n",
    "class linkedin_soup(object):\n",
    "\n",
    "    def __init__(self, soup, auto_execute = True):\n",
    "        self.soup = soup\n",
    "        if auto_execute:\n",
    "            self.auto_generate()\n",
    "    \n",
    "    @set_execute\n",
    "    def get_link(self):\n",
    "        self.link = 'https://www.linkedin.com' + self.soup.find(class_=re.compile('jobs-unified-top-card__content.*')).\\\n",
    "                                                        find('a')['href']\n",
    "\n",
    "    @set_execute\n",
    "    def get_id(self):\n",
    "        if 'link' not in self.__dict__.keys():\n",
    "            self.get_link()\n",
    "        _id = re.findall('(?<=view/)(.*)(?=/)', self.link)\n",
    "\n",
    "        assert len(_id) == 1, 'Multiple id detected'\n",
    "        self.id = int(_id[0])\n",
    "\n",
    "\n",
    "    @set_execute\n",
    "    def get_title(self):\n",
    "        title_elem = self.soup.find_all(class_='t-24 t-bold jobs-unified-top-card__job-title')\n",
    "        assert len(title_elem) == 1, \"More than 1 job title found on page!\"\n",
    "\n",
    "        title = title_elem[0].contents[0]\n",
    "        assert isinstance(title, str)\n",
    "\n",
    "        self.title = title\n",
    "\n",
    "    @set_execute\n",
    "    def get_company(self):\n",
    "        try:\n",
    "            self.company =  self.soup.find(class_ = 'jobs-unified-top-card__company-name').text.strip()\n",
    "        except AttributeError:\n",
    "            self.company_name =  np.nan\n",
    "\n",
    "    @set_execute\n",
    "    def get_location(self):\n",
    "        try:\n",
    "            self.location =  self.soup.find(class_=\"jobs-unified-top-card__bullet\").text.strip()\n",
    "        except AttributeError:\n",
    "            self.location =  np.nan\n",
    "\n",
    "    @set_execute\n",
    "    def get_job_type(self):\n",
    "        try:\n",
    "            self.job_type =  self.soup.find(class_=re.compile(\".*workplace-type\")).text\n",
    "        except AttributeError:\n",
    "            self.job_type =  np.nan\n",
    "        \n",
    "    @set_execute\n",
    "    def get_employees_company(self):\n",
    "        insight = self.soup.find_all(class_=re.compile('jobs-unified-top-card__job-insight'))\n",
    "        emp_comp = [string for string in [match.find(string=re.compile(\".*employees.*\")) \n",
    "                                for match in insight] if string][0]\n",
    "        try:\n",
    "            self.employee, self.company_type = tuple([data.strip() for data in emp_comp.split(\"·\")])\n",
    "        except ValueError:\n",
    "            self.employee = emp_comp.strip()\n",
    "            self.company_type = np.nan\n",
    "\n",
    "    @set_execute\n",
    "    def get_salary(self):\n",
    "        try:\n",
    "            self.salary = self.soup.find(href='#SALARY').text\n",
    "        except AttributeError:\n",
    "            self.salary = np.nan\n",
    "\n",
    "    @set_execute\n",
    "    def get_job_desc(self):\n",
    "        self.job_desc = self.soup.select(\"div#job-details > span\")[0].get_text(separator=\"\\n\").strip()\n",
    "    \n",
    "    def auto_generate(self):\n",
    "        for method in dir(self):\n",
    "            if getattr(getattr(self, method), 'execute', False):\n",
    "                getattr(self, method)()\n",
    "    \n",
    "    def generate_df(self):\n",
    "        return pd.DataFrame({key:item for key, item in self.__dict__.items() if key != 'soup'}, \n",
    "            index = [0])\n",
    "\n",
    "        \n"
   ]
  },
  {
   "cell_type": "code",
   "execution_count": 25,
   "metadata": {},
   "outputs": [],
   "source": [
    "soup = bs(driver.page_source)\n",
    "test = linkedin_soup(soup)"
   ]
  },
  {
   "cell_type": "code",
   "execution_count": 26,
   "metadata": {},
   "outputs": [
    {
     "data": {
      "text/html": [
       "<div>\n",
       "<style scoped>\n",
       "    .dataframe tbody tr th:only-of-type {\n",
       "        vertical-align: middle;\n",
       "    }\n",
       "\n",
       "    .dataframe tbody tr th {\n",
       "        vertical-align: top;\n",
       "    }\n",
       "\n",
       "    .dataframe thead th {\n",
       "        text-align: right;\n",
       "    }\n",
       "</style>\n",
       "<table border=\"1\" class=\"dataframe\">\n",
       "  <thead>\n",
       "    <tr style=\"text-align: right;\">\n",
       "      <th></th>\n",
       "      <th>company</th>\n",
       "      <th>employee</th>\n",
       "      <th>company_type</th>\n",
       "      <th>link</th>\n",
       "      <th>id</th>\n",
       "      <th>job_desc</th>\n",
       "      <th>job_type</th>\n",
       "      <th>location</th>\n",
       "      <th>salary</th>\n",
       "      <th>title</th>\n",
       "    </tr>\n",
       "  </thead>\n",
       "  <tbody>\n",
       "    <tr>\n",
       "      <th>0</th>\n",
       "      <td>Camden A.I.</td>\n",
       "      <td>11-50 employees</td>\n",
       "      <td>NaN</td>\n",
       "      <td>https://www.linkedin.com/jobs/view/3483453445/...</td>\n",
       "      <td>3483453445</td>\n",
       "      <td>We are looking for a dynamic energetic person ...</td>\n",
       "      <td>Hybrid</td>\n",
       "      <td>London, England, United Kingdom</td>\n",
       "      <td>NaN</td>\n",
       "      <td>Business Intelligence Lead</td>\n",
       "    </tr>\n",
       "  </tbody>\n",
       "</table>\n",
       "</div>"
      ],
      "text/plain": [
       "       company         employee  company_type  \\\n",
       "0  Camden A.I.  11-50 employees           NaN   \n",
       "\n",
       "                                                link          id  \\\n",
       "0  https://www.linkedin.com/jobs/view/3483453445/...  3483453445   \n",
       "\n",
       "                                            job_desc job_type  \\\n",
       "0  We are looking for a dynamic energetic person ...   Hybrid   \n",
       "\n",
       "                          location  salary                       title  \n",
       "0  London, England, United Kingdom     NaN  Business Intelligence Lead  "
      ]
     },
     "execution_count": 26,
     "metadata": {},
     "output_type": "execute_result"
    }
   ],
   "source": [
    "test.generate_df()"
   ]
  },
  {
   "cell_type": "code",
   "execution_count": 27,
   "metadata": {},
   "outputs": [
    {
     "data": {
      "text/html": [
       "<div>\n",
       "<style scoped>\n",
       "    .dataframe tbody tr th:only-of-type {\n",
       "        vertical-align: middle;\n",
       "    }\n",
       "\n",
       "    .dataframe tbody tr th {\n",
       "        vertical-align: top;\n",
       "    }\n",
       "\n",
       "    .dataframe thead th {\n",
       "        text-align: right;\n",
       "    }\n",
       "</style>\n",
       "<table border=\"1\" class=\"dataframe\">\n",
       "  <thead>\n",
       "    <tr style=\"text-align: right;\">\n",
       "      <th></th>\n",
       "      <th>company</th>\n",
       "      <th>employee</th>\n",
       "      <th>company_type</th>\n",
       "      <th>link</th>\n",
       "      <th>job_desc</th>\n",
       "      <th>job_type</th>\n",
       "      <th>location</th>\n",
       "      <th>salary</th>\n",
       "      <th>title</th>\n",
       "    </tr>\n",
       "  </thead>\n",
       "  <tbody>\n",
       "    <tr>\n",
       "      <th>3483453445</th>\n",
       "      <td>Camden A.I.</td>\n",
       "      <td>11-50 employees</td>\n",
       "      <td>NaN</td>\n",
       "      <td>https://www.linkedin.com/jobs/view/3483453445/...</td>\n",
       "      <td>We are looking for a dynamic energetic person ...</td>\n",
       "      <td>Hybrid</td>\n",
       "      <td>London, England, United Kingdom</td>\n",
       "      <td>NaN</td>\n",
       "      <td>Business Intelligence Lead</td>\n",
       "    </tr>\n",
       "  </tbody>\n",
       "</table>\n",
       "</div>"
      ],
      "text/plain": [
       "                company         employee  company_type  \\\n",
       "3483453445  Camden A.I.  11-50 employees           NaN   \n",
       "\n",
       "                                                         link  \\\n",
       "3483453445  https://www.linkedin.com/jobs/view/3483453445/...   \n",
       "\n",
       "                                                     job_desc job_type  \\\n",
       "3483453445  We are looking for a dynamic energetic person ...   Hybrid   \n",
       "\n",
       "                                   location  salary  \\\n",
       "3483453445  London, England, United Kingdom     NaN   \n",
       "\n",
       "                                 title  \n",
       "3483453445  Business Intelligence Lead  "
      ]
     },
     "execution_count": 27,
     "metadata": {},
     "output_type": "execute_result"
    }
   ],
   "source": [
    "pd.DataFrame({key:item for key, item in test.__dict__.items() if (key != 'soup') & (key != 'id')}, \n",
    "            index = [test.__dict__['id']])"
   ]
  },
  {
   "cell_type": "code",
   "execution_count": 28,
   "metadata": {},
   "outputs": [],
   "source": [
    "test_link = soup.find(class_=re.compile('jobs-unified-top-card__content.*')).find('a')['href']\n"
   ]
  },
  {
   "cell_type": "code",
   "execution_count": 29,
   "metadata": {},
   "outputs": [
    {
     "data": {
      "text/plain": [
       "True"
      ]
     },
     "execution_count": 29,
     "metadata": {},
     "output_type": "execute_result"
    }
   ],
   "source": [
    "import webbrowser\n",
    "\n",
    "webbrowser.open('https://www.linkedin.com' + test_link)"
   ]
  },
  {
   "cell_type": "code",
   "execution_count": 30,
   "metadata": {},
   "outputs": [],
   "source": [
    "test.auto_generate()"
   ]
  },
  {
   "cell_type": "code",
   "execution_count": 31,
   "metadata": {},
   "outputs": [],
   "source": [
    "test.get_company()\n",
    "test.get_location()"
   ]
  },
  {
   "cell_type": "code",
   "execution_count": 32,
   "metadata": {},
   "outputs": [],
   "source": [
    "def wrapper(func):\n",
    "    func.is_test = True\n",
    "    return func\n",
    "\n",
    "@wrapper\n",
    "def blah(x):\n",
    "    return\n",
    "\n",
    "blah(1)\n",
    "\n",
    "blah.what_the = True\n"
   ]
  },
  {
   "cell_type": "code",
   "execution_count": 33,
   "metadata": {},
   "outputs": [],
   "source": [
    "class listing_wait(object):\n",
    "\n",
    "    def __init__(self, locator, xpath):\n",
    "        self.locator = locator\n",
    "        self.xpath = xpath\n",
    "\n",
    "    def __call__(self, driver):\n",
    "        _elements = driver.find_elements(self.locator, self.xpath)\n",
    "        if len(_elements) == 0:\n",
    "            return False\n",
    "        else:\n",
    "            return _elements"
   ]
  },
  {
   "cell_type": "code",
   "execution_count": 34,
   "metadata": {},
   "outputs": [],
   "source": [
    "\n",
    "# driver.refresh()\n",
    "# # WebDriverWait(driver, 10).until(EC.presence_of_element_located((By.XPATH, \n",
    "# #                         \"//ul[contains(@class, 'scaffold-layout__list-container')]\")))\n",
    "\n",
    "# time.sleep(15)\n",
    "\n",
    "# job_elems = get_job_elems(driver)\n",
    "# print(len(job_elems))\n",
    "# action = ActionChains(driver)\n",
    "\n",
    "# for elem in job_elems:\n",
    "#     action.move_to_element(elem).perform()\n",
    "#     WebDriverWait(driver, 10).until(EC.element_to_be_clickable(elem))\n",
    "#     elem.click()\n",
    "#     # test = WebDriverWait(driver, 10).until(listing_wait(By.XPATH, \n",
    "#     #                     \"//h2[contains(@class, 't-24 t-bold jobs-unified-top-card__job-title')]\"))\n",
    "#     WebDriverWait(driver, 10, ignored_exceptions=StaleElementReferenceException).until(EC.element_to_be_clickable((By.XPATH, \n",
    "#                                 \"//div[contains(@class, 'jobs-apply-button')]//button\")))\n",
    "#     # time.sleep(1)\n",
    "#     soup = bs(driver.page_source)\n",
    "#     print(get_title(soup), get_company(soup), get_location(soup))"
   ]
  },
  {
   "cell_type": "markdown",
   "metadata": {},
   "source": [
    "soup = bs(driver.page_source)"
   ]
  },
  {
   "cell_type": "code",
   "execution_count": 47,
   "metadata": {},
   "outputs": [],
   "source": [
    "def scrape_page(driver):\n",
    "    driver.refresh()\n",
    "    # WebDriverWait(driver, 10).until(EC.presence_of_element_located((By.XPATH, \n",
    "    #                         \"//ul[contains(@class, 'scaffold-layout__list-container')]\")))\n",
    "\n",
    "    time.sleep(20)\n",
    "\n",
    "    job_elems = get_job_elems(driver)\n",
    "    assert len(job_elems) == 25, \"Job listing less than 25, web page not properly loaded!\"\n",
    "\n",
    "    skill_dfs = []\n",
    "    job_dfs = []\n",
    "    for elem in job_elems:\n",
    "        action = ActionChains(driver)\n",
    "        action.move_to_element(elem).perform()\n",
    "        WebDriverWait(driver, 10).until(EC.element_to_be_clickable(elem))\n",
    "        elem.click()\n",
    "        # test = WebDriverWait(driver, 10).until(listing_wait(By.XPATH, \n",
    "        #                     \"//h2[contains(@class, 't-24 t-bold jobs-unified-top-card__job-title')]\"))\n",
    "        try:\n",
    "            WebDriverWait(driver, 20, ignored_exceptions=StaleElementReferenceException).until(EC.element_to_be_clickable((By.XPATH, \n",
    "                                        \"//div[contains(@class, 'jobs-apply-button')]//button\")))\n",
    "        except TimeoutException:\n",
    "            WebDriverWait(driver, 20, ignored_exceptions=StaleElementReferenceException).until(EC.presence_of_element_located((By.XPATH, \n",
    "                                        \"//div[contains(@class, 'feedback--success')]\")))\n",
    "\n",
    "        time.sleep(0.5)\n",
    "        \n",
    "        skill_dfs.append(generate_skill_df(elem))\n",
    "        _soup = bs(driver.page_source)\n",
    "        _linkedin_soup = linkedin_soup(_soup)\n",
    "        job_dfs.append(_linkedin_soup.generate_df())\n",
    "\n",
    "    return (pd.concat(skill_dfs, ignore_index=True), pd.concat(job_dfs, ignore_index=True))\n",
    "\n"
   ]
  },
  {
   "cell_type": "code",
   "execution_count": 54,
   "metadata": {},
   "outputs": [],
   "source": [
    "def scrape_pages(driver, page_num):\n",
    "    skill_dfs = []\n",
    "    job_dfs = []\n",
    "\n",
    "    try:\n",
    "        for page in range(1, page_num + 1):\n",
    "            print(f\"Page {page}\")\n",
    "            page_button = driver.find_element(By.XPATH, f\"//button[contains(@aria-label, 'Page {page}')]\")\n",
    "            action = ActionChains(driver)\n",
    "            action.move_to_element(page_button)\n",
    "            page_button.click()\n",
    "\n",
    "            time.sleep(15)\n",
    "\n",
    "            _skill_df, _job_df = scrape_page(driver)\n",
    "\n",
    "            skill_dfs.append(_skill_df)\n",
    "            job_dfs.append(_job_df)\n",
    "    except Exception as err:\n",
    "       print(f\"Unexpected {err=}, {type(err)=}\")\n",
    "    finally:\n",
    "        return (pd.concat(skill_dfs, ignore_index=True), pd.concat(job_dfs, ignore_index=True))"
   ]
  },
  {
   "cell_type": "code",
   "execution_count": 55,
   "metadata": {},
   "outputs": [
    {
     "name": "stdout",
     "output_type": "stream",
     "text": [
      "Page 1\n",
      "Page 2\n",
      "Page 3\n",
      "Page 4\n",
      "Page 5\n",
      "Page 6\n",
      "Page 7\n",
      "Page 8\n",
      "Page 9\n",
      "Page 10\n",
      "Unexpected err=IndexError('list index out of range'), type(err)=<class 'IndexError'>\n"
     ]
    }
   ],
   "source": [
    "skill_df, job_df = scrape_pages(driver, 40)"
   ]
  },
  {
   "cell_type": "code",
   "execution_count": 57,
   "metadata": {},
   "outputs": [
    {
     "data": {
      "text/html": [
       "<div>\n",
       "<style scoped>\n",
       "    .dataframe tbody tr th:only-of-type {\n",
       "        vertical-align: middle;\n",
       "    }\n",
       "\n",
       "    .dataframe tbody tr th {\n",
       "        vertical-align: top;\n",
       "    }\n",
       "\n",
       "    .dataframe thead th {\n",
       "        text-align: right;\n",
       "    }\n",
       "</style>\n",
       "<table border=\"1\" class=\"dataframe\">\n",
       "  <thead>\n",
       "    <tr style=\"text-align: right;\">\n",
       "      <th></th>\n",
       "      <th>company</th>\n",
       "      <th>employee</th>\n",
       "      <th>company_type</th>\n",
       "      <th>link</th>\n",
       "      <th>id</th>\n",
       "      <th>job_desc</th>\n",
       "      <th>job_type</th>\n",
       "      <th>location</th>\n",
       "      <th>salary</th>\n",
       "      <th>title</th>\n",
       "    </tr>\n",
       "  </thead>\n",
       "  <tbody>\n",
       "    <tr>\n",
       "      <th>0</th>\n",
       "      <td>Haley Bridge</td>\n",
       "      <td>1-10 employees</td>\n",
       "      <td>Staffing and Recruiting</td>\n",
       "      <td>https://www.linkedin.com/jobs/view/3484754630/...</td>\n",
       "      <td>3484754630</td>\n",
       "      <td>Data Engineer, Snowflake, ETL, Data Visualisat...</td>\n",
       "      <td>Hybrid</td>\n",
       "      <td>London, England, United Kingdom</td>\n",
       "      <td>£80/hr - £95/hr</td>\n",
       "      <td>Data Engineer</td>\n",
       "    </tr>\n",
       "    <tr>\n",
       "      <th>1</th>\n",
       "      <td>Camden A.I.</td>\n",
       "      <td>11-50 employees</td>\n",
       "      <td>NaN</td>\n",
       "      <td>https://www.linkedin.com/jobs/view/3483453445/...</td>\n",
       "      <td>3483453445</td>\n",
       "      <td>We are looking for a dynamic energetic person ...</td>\n",
       "      <td>Hybrid</td>\n",
       "      <td>London, England, United Kingdom</td>\n",
       "      <td>NaN</td>\n",
       "      <td>Business Intelligence Lead</td>\n",
       "    </tr>\n",
       "    <tr>\n",
       "      <th>2</th>\n",
       "      <td>Ricardo plc</td>\n",
       "      <td>1,001-5,000 employees</td>\n",
       "      <td>Environmental Services</td>\n",
       "      <td>https://www.linkedin.com/jobs/view/3472825102/...</td>\n",
       "      <td>3472825102</td>\n",
       "      <td>Role:\\n \\nCustomer Data Consultant\\n \\nLocatio...</td>\n",
       "      <td>Hybrid</td>\n",
       "      <td>England, United Kingdom</td>\n",
       "      <td>NaN</td>\n",
       "      <td>Customer Data Consultant</td>\n",
       "    </tr>\n",
       "    <tr>\n",
       "      <th>3</th>\n",
       "      <td>PHASTAR</td>\n",
       "      <td>201-500 employees</td>\n",
       "      <td>Research Services</td>\n",
       "      <td>https://www.linkedin.com/jobs/view/3475077576/...</td>\n",
       "      <td>3475077576</td>\n",
       "      <td>ABOUT PHASTAR\\n \\nPHASTAR is a multiple award-...</td>\n",
       "      <td>Hybrid</td>\n",
       "      <td>England, United Kingdom</td>\n",
       "      <td>NaN</td>\n",
       "      <td>Graduate Statistician</td>\n",
       "    </tr>\n",
       "    <tr>\n",
       "      <th>4</th>\n",
       "      <td>Canxchange</td>\n",
       "      <td>11-50 employees</td>\n",
       "      <td>NaN</td>\n",
       "      <td>https://www.linkedin.com/jobs/view/3484746026/...</td>\n",
       "      <td>3484746026</td>\n",
       "      <td>Title: Cannabis Market Data Analyst\\nEmploymen...</td>\n",
       "      <td>On-site</td>\n",
       "      <td>London, England, United Kingdom</td>\n",
       "      <td>NaN</td>\n",
       "      <td>Data Analyst</td>\n",
       "    </tr>\n",
       "    <tr>\n",
       "      <th>...</th>\n",
       "      <td>...</td>\n",
       "      <td>...</td>\n",
       "      <td>...</td>\n",
       "      <td>...</td>\n",
       "      <td>...</td>\n",
       "      <td>...</td>\n",
       "      <td>...</td>\n",
       "      <td>...</td>\n",
       "      <td>...</td>\n",
       "      <td>...</td>\n",
       "    </tr>\n",
       "    <tr>\n",
       "      <th>220</th>\n",
       "      <td>developrec</td>\n",
       "      <td>11-50 employees</td>\n",
       "      <td>Staffing and Recruiting</td>\n",
       "      <td>https://www.linkedin.com/jobs/view/3468029153/...</td>\n",
       "      <td>3468029153</td>\n",
       "      <td>Job Title: Lead Data Analyst \\nLocation: Remot...</td>\n",
       "      <td>Hybrid</td>\n",
       "      <td>London, England, United Kingdom</td>\n",
       "      <td>NaN</td>\n",
       "      <td>Data Analyst</td>\n",
       "    </tr>\n",
       "    <tr>\n",
       "      <th>221</th>\n",
       "      <td>iCrossing UK</td>\n",
       "      <td>501-1,000 employees</td>\n",
       "      <td>Advertising Services</td>\n",
       "      <td>https://www.linkedin.com/jobs/view/3476852903/...</td>\n",
       "      <td>3476852903</td>\n",
       "      <td>iCrossing combines the capability of a digital...</td>\n",
       "      <td>Hybrid</td>\n",
       "      <td>London, England, United Kingdom</td>\n",
       "      <td>NaN</td>\n",
       "      <td>Google Analytics Specialist</td>\n",
       "    </tr>\n",
       "    <tr>\n",
       "      <th>222</th>\n",
       "      <td>Burberry</td>\n",
       "      <td>10,001+ employees</td>\n",
       "      <td>Luxury Goods &amp; Jewelry</td>\n",
       "      <td>https://www.linkedin.com/jobs/view/3484738799/...</td>\n",
       "      <td>3484738799</td>\n",
       "      <td>Job description:\\n\\n At Burberry, we believe c...</td>\n",
       "      <td>Hybrid</td>\n",
       "      <td>Leeds, England, United Kingdom</td>\n",
       "      <td>NaN</td>\n",
       "      <td>HR Data Analyst</td>\n",
       "    </tr>\n",
       "    <tr>\n",
       "      <th>223</th>\n",
       "      <td>Osborne Clarke</td>\n",
       "      <td>1,001-5,000 employees</td>\n",
       "      <td>Law Practice</td>\n",
       "      <td>https://www.linkedin.com/jobs/view/3464578073/...</td>\n",
       "      <td>3464578073</td>\n",
       "      <td>Description\\n \\nThis is a fantastic opportunit...</td>\n",
       "      <td>NaN</td>\n",
       "      <td>Bristol, England, United Kingdom</td>\n",
       "      <td>NaN</td>\n",
       "      <td>Data Science Apprentice 2023 - Bristol</td>\n",
       "    </tr>\n",
       "    <tr>\n",
       "      <th>224</th>\n",
       "      <td>Nigel Frank International</td>\n",
       "      <td>1,001-5,000 employees</td>\n",
       "      <td>Staffing and Recruiting</td>\n",
       "      <td>https://www.linkedin.com/jobs/view/3476810405/...</td>\n",
       "      <td>3476810405</td>\n",
       "      <td>I am currently working with an electronic comp...</td>\n",
       "      <td>NaN</td>\n",
       "      <td>Chelmsford, England, United Kingdom</td>\n",
       "      <td>NaN</td>\n",
       "      <td>Data Analyst</td>\n",
       "    </tr>\n",
       "  </tbody>\n",
       "</table>\n",
       "<p>225 rows × 10 columns</p>\n",
       "</div>"
      ],
      "text/plain": [
       "                       company               employee  \\\n",
       "0                 Haley Bridge         1-10 employees   \n",
       "1                  Camden A.I.        11-50 employees   \n",
       "2                  Ricardo plc  1,001-5,000 employees   \n",
       "3                      PHASTAR      201-500 employees   \n",
       "4                   Canxchange        11-50 employees   \n",
       "..                         ...                    ...   \n",
       "220                 developrec        11-50 employees   \n",
       "221               iCrossing UK    501-1,000 employees   \n",
       "222                   Burberry      10,001+ employees   \n",
       "223             Osborne Clarke  1,001-5,000 employees   \n",
       "224  Nigel Frank International  1,001-5,000 employees   \n",
       "\n",
       "                company_type  \\\n",
       "0    Staffing and Recruiting   \n",
       "1                        NaN   \n",
       "2     Environmental Services   \n",
       "3          Research Services   \n",
       "4                        NaN   \n",
       "..                       ...   \n",
       "220  Staffing and Recruiting   \n",
       "221     Advertising Services   \n",
       "222   Luxury Goods & Jewelry   \n",
       "223             Law Practice   \n",
       "224  Staffing and Recruiting   \n",
       "\n",
       "                                                  link          id  \\\n",
       "0    https://www.linkedin.com/jobs/view/3484754630/...  3484754630   \n",
       "1    https://www.linkedin.com/jobs/view/3483453445/...  3483453445   \n",
       "2    https://www.linkedin.com/jobs/view/3472825102/...  3472825102   \n",
       "3    https://www.linkedin.com/jobs/view/3475077576/...  3475077576   \n",
       "4    https://www.linkedin.com/jobs/view/3484746026/...  3484746026   \n",
       "..                                                 ...         ...   \n",
       "220  https://www.linkedin.com/jobs/view/3468029153/...  3468029153   \n",
       "221  https://www.linkedin.com/jobs/view/3476852903/...  3476852903   \n",
       "222  https://www.linkedin.com/jobs/view/3484738799/...  3484738799   \n",
       "223  https://www.linkedin.com/jobs/view/3464578073/...  3464578073   \n",
       "224  https://www.linkedin.com/jobs/view/3476810405/...  3476810405   \n",
       "\n",
       "                                              job_desc job_type  \\\n",
       "0    Data Engineer, Snowflake, ETL, Data Visualisat...   Hybrid   \n",
       "1    We are looking for a dynamic energetic person ...   Hybrid   \n",
       "2    Role:\\n \\nCustomer Data Consultant\\n \\nLocatio...   Hybrid   \n",
       "3    ABOUT PHASTAR\\n \\nPHASTAR is a multiple award-...   Hybrid   \n",
       "4    Title: Cannabis Market Data Analyst\\nEmploymen...  On-site   \n",
       "..                                                 ...      ...   \n",
       "220  Job Title: Lead Data Analyst \\nLocation: Remot...   Hybrid   \n",
       "221  iCrossing combines the capability of a digital...   Hybrid   \n",
       "222  Job description:\\n\\n At Burberry, we believe c...   Hybrid   \n",
       "223  Description\\n \\nThis is a fantastic opportunit...      NaN   \n",
       "224  I am currently working with an electronic comp...      NaN   \n",
       "\n",
       "                                location           salary  \\\n",
       "0        London, England, United Kingdom  £80/hr - £95/hr   \n",
       "1        London, England, United Kingdom              NaN   \n",
       "2                England, United Kingdom              NaN   \n",
       "3                England, United Kingdom              NaN   \n",
       "4        London, England, United Kingdom              NaN   \n",
       "..                                   ...              ...   \n",
       "220      London, England, United Kingdom              NaN   \n",
       "221      London, England, United Kingdom              NaN   \n",
       "222       Leeds, England, United Kingdom              NaN   \n",
       "223     Bristol, England, United Kingdom              NaN   \n",
       "224  Chelmsford, England, United Kingdom              NaN   \n",
       "\n",
       "                                      title  \n",
       "0                             Data Engineer  \n",
       "1                Business Intelligence Lead  \n",
       "2                 Customer Data Consultant   \n",
       "3                    Graduate Statistician   \n",
       "4                              Data Analyst  \n",
       "..                                      ...  \n",
       "220                            Data Analyst  \n",
       "221             Google Analytics Specialist  \n",
       "222                         HR Data Analyst  \n",
       "223  Data Science Apprentice 2023 - Bristol  \n",
       "224                            Data Analyst  \n",
       "\n",
       "[225 rows x 10 columns]"
      ]
     },
     "execution_count": 57,
     "metadata": {},
     "output_type": "execute_result"
    }
   ],
   "source": [
    "job_df"
   ]
  },
  {
   "cell_type": "code",
   "execution_count": null,
   "metadata": {},
   "outputs": [],
   "source": []
  }
 ],
 "metadata": {
  "kernelspec": {
   "display_name": "web-scrape",
   "language": "python",
   "name": "python3"
  },
  "language_info": {
   "codemirror_mode": {
    "name": "ipython",
    "version": 3
   },
   "file_extension": ".py",
   "mimetype": "text/x-python",
   "name": "python",
   "nbconvert_exporter": "python",
   "pygments_lexer": "ipython3",
   "version": "3.8.16"
  },
  "orig_nbformat": 4,
  "vscode": {
   "interpreter": {
    "hash": "4f1d3b173b9b775dff81d90e6412d1bd768e703d4c0fdde8084be4ea16c2cf28"
   }
  }
 },
 "nbformat": 4,
 "nbformat_minor": 2
}
