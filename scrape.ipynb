{
 "cells": [
  {
   "cell_type": "code",
   "execution_count": 60,
   "metadata": {},
   "outputs": [],
   "source": [
    "import time\n",
    "\n",
    "import numpy as np\n",
    "import pandas as pd\n",
    "import selenium\n",
    "from bs4 import BeautifulSoup as bs\n",
    "from selenium import webdriver\n",
    "from selenium.common.exceptions import (NoSuchElementException,\n",
    "                                        StaleElementReferenceException,\n",
    "                                        TimeoutException)\n",
    "from selenium.webdriver.common.action_chains import ActionChains\n",
    "from selenium.webdriver.common.by import By\n",
    "from selenium.webdriver.common.keys import Keys\n",
    "from selenium.webdriver.support import expected_conditions as EC\n",
    "from selenium.webdriver.support.wait import WebDriverWait"
   ]
  },
  {
   "cell_type": "code",
   "execution_count": 61,
   "metadata": {},
   "outputs": [],
   "source": [
    "driver = webdriver.Chrome()"
   ]
  },
  {
   "cell_type": "code",
   "execution_count": 62,
   "metadata": {},
   "outputs": [],
   "source": [
    "driver.get('https://www.linkedin.com')"
   ]
  },
  {
   "cell_type": "code",
   "execution_count": 63,
   "metadata": {},
   "outputs": [],
   "source": [
    "with open('./login_credential.txt') as f:\n",
    "    lines = f.read().splitlines()"
   ]
  },
  {
   "cell_type": "code",
   "execution_count": 64,
   "metadata": {},
   "outputs": [],
   "source": [
    "username = driver.find_element(By.ID, 'session_key')\n",
    "password = driver.find_element(By.ID, 'session_password')"
   ]
  },
  {
   "cell_type": "code",
   "execution_count": 65,
   "metadata": {},
   "outputs": [],
   "source": [
    "username.send_keys(lines[0])\n",
    "\n",
    "time.sleep(5)\n",
    "password.send_keys(lines[1])"
   ]
  },
  {
   "cell_type": "code",
   "execution_count": 66,
   "metadata": {},
   "outputs": [],
   "source": [
    "driver.find_element(By.CLASS_NAME, 'sign-in-form__submit-button').click()"
   ]
  },
  {
   "cell_type": "code",
   "execution_count": 67,
   "metadata": {},
   "outputs": [],
   "source": [
    "driver.get('https://linkedin.com/jobs')\n",
    "time.sleep(10)"
   ]
  },
  {
   "cell_type": "code",
   "execution_count": 68,
   "metadata": {},
   "outputs": [],
   "source": [
    "job_search = driver.find_element(By.XPATH, '//*[@id=\"jobs-search-box-keyword-id-ember25\"]')\n",
    "job_search.send_keys('data')\n",
    "\n",
    "time.sleep(2)"
   ]
  },
  {
   "cell_type": "code",
   "execution_count": 69,
   "metadata": {},
   "outputs": [],
   "source": [
    "location_search = driver.find_element(By.XPATH, '//*[@id=\"jobs-search-box-location-id-ember25\"]')\n",
    "location_search.send_keys('United Kingdom')\n",
    "\n",
    "time.sleep(2)"
   ]
  },
  {
   "cell_type": "code",
   "execution_count": 70,
   "metadata": {},
   "outputs": [],
   "source": [
    "job_search.send_keys(Keys.RETURN)\n",
    "time.sleep(5)"
   ]
  },
  {
   "cell_type": "code",
   "execution_count": 71,
   "metadata": {},
   "outputs": [],
   "source": [
    "def get_job_elems(driver):\n",
    "    return driver.find_elements(By.XPATH, '//*[@id=\"main\"]/div/section[1]/div/ul/*')\n",
    "\n",
    "job_list = driver.find_elements(By.XPATH, '//*[@id=\"main\"]/div/section[1]/div/ul/*')"
   ]
  },
  {
   "cell_type": "code",
   "execution_count": null,
   "metadata": {},
   "outputs": [],
   "source": []
  },
  {
   "cell_type": "code",
   "execution_count": 72,
   "metadata": {},
   "outputs": [],
   "source": [
    "driver.refresh()"
   ]
  },
  {
   "cell_type": "code",
   "execution_count": 73,
   "metadata": {},
   "outputs": [],
   "source": [
    "\n",
    "job_list = driver.find_elements(By.XPATH, '//*[@id=\"main\"]/div/section[1]/div/ul/*')"
   ]
  },
  {
   "cell_type": "code",
   "execution_count": 74,
   "metadata": {},
   "outputs": [
    {
     "data": {
      "text/plain": [
       "0"
      ]
     },
     "execution_count": 74,
     "metadata": {},
     "output_type": "execute_result"
    }
   ],
   "source": [
    "len(job_list)"
   ]
  },
  {
   "cell_type": "code",
   "execution_count": 75,
   "metadata": {},
   "outputs": [],
   "source": [
    "import re\n",
    "\n",
    "def get_id(driver):\n",
    "    link_elem = driver.find_element(By.XPATH, \n",
    "                        '//div[contains(@class, \"jobs-unified-top-card t-14\")]//a[@href]')\n",
    "    link = link_elem.get_attribute('href')\n",
    "    _id = re.findall('(?<=view/)(.*)(?=/)', link)\n",
    "\n",
    "    assert len(_id) == 1, \"Multiple Id found for same job posting!\"\n",
    "\n",
    "    return int(_id[0]) "
   ]
  },
  {
   "cell_type": "code",
   "execution_count": 76,
   "metadata": {},
   "outputs": [],
   "source": [
    "def get_skills(driver):\n",
    "    try:\n",
    "        WebDriverWait(driver, 5).until(\n",
    "            EC.presence_of_all_elements_located((By.XPATH, \n",
    "                        \"//button[contains(@aria-label, 'View strong skill match modal')]\"))\n",
    "        )\n",
    "        try:\n",
    "            driver.find_element(By.XPATH, \n",
    "                            \"//button[contains(@aria-label, 'View strong skill match modal')]\").click()\n",
    "        except StaleElementReferenceException:\n",
    "            driver.find_element(By.XPATH, \n",
    "                            \"//button[contains(@aria-label, 'View strong skill match modal')]\").click()\n",
    "    except TimeoutException:\n",
    "        return False\n",
    "\n",
    "    try:\n",
    "        WebDriverWait(driver, 10).until(\n",
    "            EC.presence_of_all_elements_located((By.XPATH, \n",
    "                        \"//ul[contains(@class, 'job-details-skill-match-status-list')]\"))\n",
    "        )\n",
    "    except TimeoutException:\n",
    "        return\n",
    "\n",
    "    skill = driver.find_elements(By.XPATH, \n",
    "                            \"//ul[contains(@class, 'job-details-skill-match-status-list')]\")\n",
    "\n",
    "    text = skill[0].text.replace(\"Add\", '')\n",
    "\n",
    "    driver.find_element(By.XPATH, \"//div[contains(@aria-labelledby, 'jobs-skill-match-modal-header')]//button\").click()\n",
    "\n",
    "    return [skill for skill in text.split(\"\\n\") if skill != '']\n",
    "    \n",
    "    "
   ]
  },
  {
   "cell_type": "code",
   "execution_count": 77,
   "metadata": {},
   "outputs": [],
   "source": [
    "def generate_skill_df(elem):\n",
    "    action = ActionChains(driver)\n",
    "    action.move_to_element(elem).perform()\n",
    "    elem.click()\n",
    "    _id = get_id(elem)\n",
    "    _skills = get_skills(driver)\n",
    "\n",
    "    if _skills == False:\n",
    "        return \n",
    "\n",
    "    _df = pd.DataFrame({'id': [_id for x in range(len(_skills))], \\\n",
    "                        'skills': _skills})\n",
    "\n",
    "    return(_df)"
   ]
  },
  {
   "cell_type": "code",
   "execution_count": 78,
   "metadata": {},
   "outputs": [],
   "source": [
    "def generate_all_skill_df(driver, elems):\n",
    "    df_list = []\n",
    "    for elem in elems:\n",
    "        _df = generate_skill_df(elem)\n",
    "        df_list.append(_df)\n",
    "    \n",
    "    df_list = [df for df in df_list if ~isinstance(df, type(None))]\n",
    "    return pd.concat(df_list)"
   ]
  },
  {
   "cell_type": "code",
   "execution_count": 79,
   "metadata": {},
   "outputs": [],
   "source": [
    "job_list = get_job_elems(driver)\n",
    "# test_all = generate_all_skill_df(driver, job_list)"
   ]
  },
  {
   "cell_type": "code",
   "execution_count": 80,
   "metadata": {},
   "outputs": [
    {
     "data": {
      "text/plain": [
       "['Communication',\n",
       " 'Change Management',\n",
       " 'Data Manipulation',\n",
       " 'Fixed Income Analysis',\n",
       " 'Fixed-Income Investing',\n",
       " 'Management Review',\n",
       " 'Prioritize Workload',\n",
       " 'Problem Solving',\n",
       " 'Release Management',\n",
       " 'Visual Basic for Applications (VBA)']"
      ]
     },
     "execution_count": 80,
     "metadata": {},
     "output_type": "execute_result"
    }
   ],
   "source": [
    "get_skills(driver)"
   ]
  },
  {
   "cell_type": "code",
   "execution_count": 81,
   "metadata": {},
   "outputs": [
    {
     "data": {
      "text/plain": [
       "('201-500 employees ', ' Staffing and Recruiting')"
      ]
     },
     "execution_count": 81,
     "metadata": {},
     "output_type": "execute_result"
    }
   ],
   "source": [
    "soup = bs(driver.page_source)\n",
    "test = soup.find_all(class_=re.compile('jobs-unified-top-card__job-insight'))\n",
    "tuple([y for y in [x.find(string=re.compile('.*employees.*')) for x in test] if y][0].split('·') )"
   ]
  },
  {
   "cell_type": "code",
   "execution_count": 82,
   "metadata": {},
   "outputs": [],
   "source": [
    "def scrape_job(driver):\n",
    "    soup = bs(driver.page_source)"
   ]
  },
  {
   "cell_type": "code",
   "execution_count": 83,
   "metadata": {},
   "outputs": [],
   "source": [
    "def set_execute(func):\n",
    "    func.execute = True\n",
    "    return func\n",
    "\n",
    "class linkedin_soup(object):\n",
    "\n",
    "    def __init__(self, soup, auto_execute = True):\n",
    "        self.soup = soup\n",
    "        if auto_execute:\n",
    "            self.auto_generate()\n",
    "    \n",
    "    @set_execute\n",
    "    def get_link(self):\n",
    "        self.link = 'https://www.linkedin.com' + self.soup.find(class_=re.compile('jobs-unified-top-card__content.*')).\\\n",
    "                                                        find('a')['href']\n",
    "\n",
    "    @set_execute\n",
    "    def get_id(self):\n",
    "        if 'link' not in self.__dict__.keys():\n",
    "            self.get_link()\n",
    "        _id = re.findall('(?<=view/)(.*)(?=/)', self.link)\n",
    "\n",
    "        assert len(_id) == 1, 'Multiple id detected'\n",
    "        self.id = int(_id[0])\n",
    "\n",
    "\n",
    "    @set_execute\n",
    "    def get_title(self):\n",
    "        title_elem = self.soup.find_all(class_='t-24 t-bold jobs-unified-top-card__job-title')\n",
    "        assert len(title_elem) == 1, \"More than 1 job title found on page!\"\n",
    "\n",
    "        title = title_elem[0].contents[0]\n",
    "        assert isinstance(title, str)\n",
    "\n",
    "        self.title = title\n",
    "\n",
    "    @set_execute\n",
    "    def get_company(self):\n",
    "        try:\n",
    "            self.company =  self.soup.find(class_ = 'jobs-unified-top-card__company-name').text.strip()\n",
    "        except AttributeError:\n",
    "            self.company_name =  np.nan\n",
    "\n",
    "    @set_execute\n",
    "    def get_location(self):\n",
    "        try:\n",
    "            self.location =  self.soup.find(class_=\"jobs-unified-top-card__bullet\").text.strip()\n",
    "        except AttributeError:\n",
    "            self.location =  np.nan\n",
    "\n",
    "    @set_execute\n",
    "    def get_job_type(self):\n",
    "        try:\n",
    "            self.job_type =  self.soup.find(class_=re.compile(\".*workplace-type\")).text\n",
    "        except AttributeError:\n",
    "            self.job_type =  np.nan\n",
    "        \n",
    "    @set_execute\n",
    "    def get_employees_company(self):\n",
    "        insight = self.soup.find_all(class_=re.compile('jobs-unified-top-card__job-insight'))\n",
    "        emp_comp = [string for string in [match.find(string=re.compile(\".*employees.*\")) \n",
    "                                for match in insight] if string][0]\n",
    "        try:\n",
    "            self.employee, self.company_type = tuple([data.strip() for data in emp_comp.split(\"·\")])\n",
    "        except ValueError:\n",
    "            self.employee = emp_comp.strip()\n",
    "            self.company_type = np.nan\n",
    "\n",
    "    @set_execute\n",
    "    def get_salary(self):\n",
    "        try:\n",
    "            self.salary = self.soup.find(href='#SALARY').text\n",
    "        except AttributeError:\n",
    "            self.salary = np.nan\n",
    "\n",
    "    @set_execute\n",
    "    def get_job_desc(self):\n",
    "        self.job_desc = self.soup.select(\"div#job-details > span\")[0].get_text(separator=\"\\n\").strip()\n",
    "    \n",
    "    def auto_generate(self):\n",
    "        for method in dir(self):\n",
    "            if getattr(getattr(self, method), 'execute', False):\n",
    "                getattr(self, method)()\n",
    "    \n",
    "    def generate_df(self):\n",
    "        return pd.DataFrame({key:item for key, item in self.__dict__.items() if key != 'soup'}, \n",
    "            index = [0])\n",
    "\n",
    "        \n"
   ]
  },
  {
   "cell_type": "code",
   "execution_count": 84,
   "metadata": {},
   "outputs": [],
   "source": [
    "soup = bs(driver.page_source)\n",
    "test = linkedin_soup(soup)"
   ]
  },
  {
   "cell_type": "code",
   "execution_count": 85,
   "metadata": {},
   "outputs": [
    {
     "data": {
      "text/html": [
       "<div>\n",
       "<style scoped>\n",
       "    .dataframe tbody tr th:only-of-type {\n",
       "        vertical-align: middle;\n",
       "    }\n",
       "\n",
       "    .dataframe tbody tr th {\n",
       "        vertical-align: top;\n",
       "    }\n",
       "\n",
       "    .dataframe thead th {\n",
       "        text-align: right;\n",
       "    }\n",
       "</style>\n",
       "<table border=\"1\" class=\"dataframe\">\n",
       "  <thead>\n",
       "    <tr style=\"text-align: right;\">\n",
       "      <th></th>\n",
       "      <th>company</th>\n",
       "      <th>employee</th>\n",
       "      <th>company_type</th>\n",
       "      <th>link</th>\n",
       "      <th>id</th>\n",
       "      <th>job_desc</th>\n",
       "      <th>job_type</th>\n",
       "      <th>location</th>\n",
       "      <th>salary</th>\n",
       "      <th>title</th>\n",
       "    </tr>\n",
       "  </thead>\n",
       "  <tbody>\n",
       "    <tr>\n",
       "      <th>0</th>\n",
       "      <td>Jobs via eFinancialCareers</td>\n",
       "      <td>201-500 employees</td>\n",
       "      <td>Staffing and Recruiting</td>\n",
       "      <td>https://www.linkedin.com/jobs/view/3486194992/...</td>\n",
       "      <td>3486194992</td>\n",
       "      <td>Our Index department produces high-quality ben...</td>\n",
       "      <td>On-site</td>\n",
       "      <td>London, England, United Kingdom</td>\n",
       "      <td>NaN</td>\n",
       "      <td>Fixed Income Index Production Analyst</td>\n",
       "    </tr>\n",
       "  </tbody>\n",
       "</table>\n",
       "</div>"
      ],
      "text/plain": [
       "                      company           employee             company_type  \\\n",
       "0  Jobs via eFinancialCareers  201-500 employees  Staffing and Recruiting   \n",
       "\n",
       "                                                link          id  \\\n",
       "0  https://www.linkedin.com/jobs/view/3486194992/...  3486194992   \n",
       "\n",
       "                                            job_desc job_type  \\\n",
       "0  Our Index department produces high-quality ben...  On-site   \n",
       "\n",
       "                          location  salary  \\\n",
       "0  London, England, United Kingdom     NaN   \n",
       "\n",
       "                                   title  \n",
       "0  Fixed Income Index Production Analyst  "
      ]
     },
     "execution_count": 85,
     "metadata": {},
     "output_type": "execute_result"
    }
   ],
   "source": [
    "test.generate_df()"
   ]
  },
  {
   "cell_type": "code",
   "execution_count": 86,
   "metadata": {},
   "outputs": [
    {
     "data": {
      "text/html": [
       "<div>\n",
       "<style scoped>\n",
       "    .dataframe tbody tr th:only-of-type {\n",
       "        vertical-align: middle;\n",
       "    }\n",
       "\n",
       "    .dataframe tbody tr th {\n",
       "        vertical-align: top;\n",
       "    }\n",
       "\n",
       "    .dataframe thead th {\n",
       "        text-align: right;\n",
       "    }\n",
       "</style>\n",
       "<table border=\"1\" class=\"dataframe\">\n",
       "  <thead>\n",
       "    <tr style=\"text-align: right;\">\n",
       "      <th></th>\n",
       "      <th>company</th>\n",
       "      <th>employee</th>\n",
       "      <th>company_type</th>\n",
       "      <th>link</th>\n",
       "      <th>job_desc</th>\n",
       "      <th>job_type</th>\n",
       "      <th>location</th>\n",
       "      <th>salary</th>\n",
       "      <th>title</th>\n",
       "    </tr>\n",
       "  </thead>\n",
       "  <tbody>\n",
       "    <tr>\n",
       "      <th>3486194992</th>\n",
       "      <td>Jobs via eFinancialCareers</td>\n",
       "      <td>201-500 employees</td>\n",
       "      <td>Staffing and Recruiting</td>\n",
       "      <td>https://www.linkedin.com/jobs/view/3486194992/...</td>\n",
       "      <td>Our Index department produces high-quality ben...</td>\n",
       "      <td>On-site</td>\n",
       "      <td>London, England, United Kingdom</td>\n",
       "      <td>NaN</td>\n",
       "      <td>Fixed Income Index Production Analyst</td>\n",
       "    </tr>\n",
       "  </tbody>\n",
       "</table>\n",
       "</div>"
      ],
      "text/plain": [
       "                               company           employee  \\\n",
       "3486194992  Jobs via eFinancialCareers  201-500 employees   \n",
       "\n",
       "                       company_type  \\\n",
       "3486194992  Staffing and Recruiting   \n",
       "\n",
       "                                                         link  \\\n",
       "3486194992  https://www.linkedin.com/jobs/view/3486194992/...   \n",
       "\n",
       "                                                     job_desc job_type  \\\n",
       "3486194992  Our Index department produces high-quality ben...  On-site   \n",
       "\n",
       "                                   location  salary  \\\n",
       "3486194992  London, England, United Kingdom     NaN   \n",
       "\n",
       "                                            title  \n",
       "3486194992  Fixed Income Index Production Analyst  "
      ]
     },
     "execution_count": 86,
     "metadata": {},
     "output_type": "execute_result"
    }
   ],
   "source": [
    "pd.DataFrame({key:item for key, item in test.__dict__.items() if (key != 'soup') & (key != 'id')}, \n",
    "            index = [test.__dict__['id']])"
   ]
  },
  {
   "cell_type": "code",
   "execution_count": 87,
   "metadata": {},
   "outputs": [],
   "source": [
    "test_link = soup.find(class_=re.compile('jobs-unified-top-card__content.*')).find('a')['href']\n"
   ]
  },
  {
   "cell_type": "code",
   "execution_count": 88,
   "metadata": {},
   "outputs": [
    {
     "data": {
      "text/plain": [
       "True"
      ]
     },
     "execution_count": 88,
     "metadata": {},
     "output_type": "execute_result"
    }
   ],
   "source": [
    "import webbrowser\n",
    "\n",
    "webbrowser.open('https://www.linkedin.com' + test_link)"
   ]
  },
  {
   "cell_type": "code",
   "execution_count": 89,
   "metadata": {},
   "outputs": [],
   "source": [
    "test.auto_generate()"
   ]
  },
  {
   "cell_type": "code",
   "execution_count": 90,
   "metadata": {},
   "outputs": [],
   "source": [
    "test.get_company()\n",
    "test.get_location()"
   ]
  },
  {
   "cell_type": "code",
   "execution_count": 91,
   "metadata": {},
   "outputs": [],
   "source": [
    "def wrapper(func):\n",
    "    func.is_test = True\n",
    "    return func\n",
    "\n",
    "@wrapper\n",
    "def blah(x):\n",
    "    return\n",
    "\n",
    "blah(1)\n",
    "\n",
    "blah.what_the = True\n"
   ]
  },
  {
   "cell_type": "code",
   "execution_count": 92,
   "metadata": {},
   "outputs": [],
   "source": [
    "class listing_wait(object):\n",
    "\n",
    "    def __init__(self, locator, xpath):\n",
    "        self.locator = locator\n",
    "        self.xpath = xpath\n",
    "\n",
    "    def __call__(self, driver):\n",
    "        _elements = driver.find_elements(self.locator, self.xpath)\n",
    "        if len(_elements) == 0:\n",
    "            return False\n",
    "        else:\n",
    "            return _elements"
   ]
  },
  {
   "cell_type": "code",
   "execution_count": 93,
   "metadata": {},
   "outputs": [],
   "source": [
    "\n",
    "# driver.refresh()\n",
    "# # WebDriverWait(driver, 10).until(EC.presence_of_element_located((By.XPATH, \n",
    "# #                         \"//ul[contains(@class, 'scaffold-layout__list-container')]\")))\n",
    "\n",
    "# time.sleep(15)\n",
    "\n",
    "# job_elems = get_job_elems(driver)\n",
    "# print(len(job_elems))\n",
    "# action = ActionChains(driver)\n",
    "\n",
    "# for elem in job_elems:\n",
    "#     action.move_to_element(elem).perform()\n",
    "#     WebDriverWait(driver, 10).until(EC.element_to_be_clickable(elem))\n",
    "#     elem.click()\n",
    "#     # test = WebDriverWait(driver, 10).until(listing_wait(By.XPATH, \n",
    "#     #                     \"//h2[contains(@class, 't-24 t-bold jobs-unified-top-card__job-title')]\"))\n",
    "#     WebDriverWait(driver, 10, ignored_exceptions=StaleElementReferenceException).until(EC.element_to_be_clickable((By.XPATH, \n",
    "#                                 \"//div[contains(@class, 'jobs-apply-button')]//button\")))\n",
    "#     # time.sleep(1)\n",
    "#     soup = bs(driver.page_source)\n",
    "#     print(get_title(soup), get_company(soup), get_location(soup))"
   ]
  },
  {
   "cell_type": "markdown",
   "metadata": {},
   "source": [
    "soup = bs(driver.page_source)"
   ]
  },
  {
   "cell_type": "code",
   "execution_count": 94,
   "metadata": {},
   "outputs": [],
   "source": [
    "def scrape_page(driver):\n",
    "    driver.refresh()\n",
    "    # WebDriverWait(driver, 10).until(EC.presence_of_element_located((By.XPATH, \n",
    "    #                         \"//ul[contains(@class, 'scaffold-layout__list-container')]\")))\n",
    "\n",
    "    time.sleep(15)\n",
    "\n",
    "    job_elems = get_job_elems(driver)\n",
    "    assert len(job_elems) == 25, \"Job listing less than 25, web page not properly loaded!\"\n",
    "\n",
    "    skill_dfs = []\n",
    "    job_dfs = []\n",
    "    for elem in job_elems:\n",
    "        action = ActionChains(driver)\n",
    "        action.move_to_element(elem).perform()\n",
    "        WebDriverWait(driver, 10).until(EC.element_to_be_clickable(elem))\n",
    "        elem.click()\n",
    "        # test = WebDriverWait(driver, 10).until(listing_wait(By.XPATH, \n",
    "        #                     \"//h2[contains(@class, 't-24 t-bold jobs-unified-top-card__job-title')]\"))\n",
    "        try:\n",
    "            WebDriverWait(driver, 10, ignored_exceptions=StaleElementReferenceException).until(EC.element_to_be_clickable((By.XPATH, \n",
    "                                        \"//div[contains(@class, 'jobs-apply-button')]//button\")))\n",
    "        except TimeoutException:\n",
    "            WebDriverWait(driver, 10, ignored_exceptions=StaleElementReferenceException).until(EC.presence_of_element_located((By.XPATH, \n",
    "                                        \"//div[contains(@class, 'feedback--success')]\")))\n",
    "\n",
    "        time.sleep(0.5)\n",
    "        \n",
    "        skill_dfs.append(generate_skill_df(elem))\n",
    "        _soup = bs(driver.page_source)\n",
    "        _linkedin_soup = linkedin_soup(_soup)\n",
    "        job_dfs.append(_linkedin_soup.generate_df())\n",
    "\n",
    "    return (pd.concat(skill_dfs, ignore_index=True), pd.concat(job_dfs, ignore_index=True))\n",
    "\n"
   ]
  },
  {
   "cell_type": "code",
   "execution_count": 95,
   "metadata": {},
   "outputs": [],
   "source": [
    "def scrape_pages(driver, page_num):\n",
    "    skill_dfs = []\n",
    "    job_dfs = []\n",
    "\n",
    "    for page in range(1, page_num + 1):\n",
    "        print(f\"Page {page}\")\n",
    "        page_button = driver.find_element(By.XPATH, f\"//button[contains(@aria-label, 'Page {page}')]\")\n",
    "        action = ActionChains(driver)\n",
    "        action.move_to_element(page_button)\n",
    "        page_button.click()\n",
    "\n",
    "        time.sleep(15)\n",
    "\n",
    "        _skill_df, _job_df = scrape_page(driver)\n",
    "\n",
    "        skill_dfs.append(_skill_df)\n",
    "        job_dfs.append(_job_df)\n",
    "\n",
    "    return (pd.concat(skill_dfs, ignore_index=True), pd.concat(job_dfs, ignore_index=True))"
   ]
  },
  {
   "cell_type": "code",
   "execution_count": 96,
   "metadata": {},
   "outputs": [
    {
     "name": "stdout",
     "output_type": "stream",
     "text": [
      "Page 1\n",
      "Page 2\n",
      "Page 3\n",
      "Page 4\n",
      "Page 5\n",
      "Page 6\n",
      "Page 7\n",
      "Page 8\n",
      "Page 9\n",
      "Page 10\n",
      "Page 11\n",
      "Page 12\n",
      "Page 13\n",
      "Page 14\n"
     ]
    },
    {
     "ename": "WebDriverException",
     "evalue": "Message: disconnected: Unable to receive message from renderer\n  (failed to check if window was closed: disconnected: not connected to DevTools)\n  (Session info: chrome=110.0.5481.77)\nStacktrace:\n#0 0x559202412253 <unknown>\n#1 0x5592021e71b7 <unknown>\n#2 0x5592021d1679 <unknown>\n#3 0x5592021d13da <unknown>\n#4 0x5592021cff7e <unknown>\n#5 0x5592021d0702 <unknown>\n#6 0x5592021f21be <unknown>\n#7 0x5592021e9ee1 <unknown>\n#8 0x5592021e9b98 <unknown>\n#9 0x5592021ea441 <unknown>\n#10 0x5592021eb13c <unknown>\n#11 0x55920225ee9e <unknown>\n#12 0x559202246702 <unknown>\n#13 0x55920225e330 <unknown>\n#14 0x559202246463 <unknown>\n#15 0x55920221634e <unknown>\n#16 0x559202217538 <unknown>\n#17 0x559202462bb6 <unknown>\n#18 0x559202465c19 <unknown>\n#19 0x55920246656c <unknown>\n#20 0x55920244a34e <unknown>\n#21 0x559202466df6 <unknown>\n#22 0x55920243b9c7 <unknown>\n#23 0x559202488e48 <unknown>\n#24 0x559202488fe5 <unknown>\n#25 0x5592024a2356 <unknown>\n#26 0x7f614a243609 <unknown>\n",
     "output_type": "error",
     "traceback": [
      "\u001b[0;31m---------------------------------------------------------------------------\u001b[0m",
      "\u001b[0;31mWebDriverException\u001b[0m                        Traceback (most recent call last)",
      "Cell \u001b[0;32mIn[96], line 1\u001b[0m\n\u001b[0;32m----> 1\u001b[0m scrape_pages(driver, \u001b[39m40\u001b[39;49m)\n",
      "Cell \u001b[0;32mIn[95], line 14\u001b[0m, in \u001b[0;36mscrape_pages\u001b[0;34m(driver, page_num)\u001b[0m\n\u001b[1;32m     10\u001b[0m page_button\u001b[39m.\u001b[39mclick()\n\u001b[1;32m     12\u001b[0m time\u001b[39m.\u001b[39msleep(\u001b[39m15\u001b[39m)\n\u001b[0;32m---> 14\u001b[0m _skill_df, _job_df \u001b[39m=\u001b[39m scrape_page(driver)\n\u001b[1;32m     16\u001b[0m skill_dfs\u001b[39m.\u001b[39mappend(_skill_df)\n\u001b[1;32m     17\u001b[0m job_dfs\u001b[39m.\u001b[39mappend(_job_df)\n",
      "Cell \u001b[0;32mIn[94], line 29\u001b[0m, in \u001b[0;36mscrape_page\u001b[0;34m(driver)\u001b[0m\n\u001b[1;32m     24\u001b[0m     WebDriverWait(driver, \u001b[39m10\u001b[39m, ignored_exceptions\u001b[39m=\u001b[39mStaleElementReferenceException)\u001b[39m.\u001b[39muntil(EC\u001b[39m.\u001b[39mpresence_of_element_located((By\u001b[39m.\u001b[39mXPATH, \n\u001b[1;32m     25\u001b[0m                                 \u001b[39m\"\u001b[39m\u001b[39m//div[contains(@class, \u001b[39m\u001b[39m'\u001b[39m\u001b[39mfeedback--success\u001b[39m\u001b[39m'\u001b[39m\u001b[39m)]\u001b[39m\u001b[39m\"\u001b[39m)))\n\u001b[1;32m     27\u001b[0m time\u001b[39m.\u001b[39msleep(\u001b[39m0.5\u001b[39m)\n\u001b[0;32m---> 29\u001b[0m skill_dfs\u001b[39m.\u001b[39mappend(generate_skill_df(elem))\n\u001b[1;32m     30\u001b[0m _soup \u001b[39m=\u001b[39m bs(driver\u001b[39m.\u001b[39mpage_source)\n\u001b[1;32m     31\u001b[0m _linkedin_soup \u001b[39m=\u001b[39m linkedin_soup(_soup)\n",
      "Cell \u001b[0;32mIn[77], line 5\u001b[0m, in \u001b[0;36mgenerate_skill_df\u001b[0;34m(elem)\u001b[0m\n\u001b[1;32m      3\u001b[0m action\u001b[39m.\u001b[39mmove_to_element(elem)\u001b[39m.\u001b[39mperform()\n\u001b[1;32m      4\u001b[0m elem\u001b[39m.\u001b[39mclick()\n\u001b[0;32m----> 5\u001b[0m _id \u001b[39m=\u001b[39m get_id(elem)\n\u001b[1;32m      6\u001b[0m _skills \u001b[39m=\u001b[39m get_skills(driver)\n\u001b[1;32m      8\u001b[0m \u001b[39mif\u001b[39;00m _skills \u001b[39m==\u001b[39m \u001b[39mFalse\u001b[39;00m:\n",
      "Cell \u001b[0;32mIn[75], line 6\u001b[0m, in \u001b[0;36mget_id\u001b[0;34m(driver)\u001b[0m\n\u001b[1;32m      3\u001b[0m \u001b[39mdef\u001b[39;00m \u001b[39mget_id\u001b[39m(driver):\n\u001b[1;32m      4\u001b[0m     link_elem \u001b[39m=\u001b[39m driver\u001b[39m.\u001b[39mfind_element(By\u001b[39m.\u001b[39mXPATH, \n\u001b[1;32m      5\u001b[0m                         \u001b[39m'\u001b[39m\u001b[39m//div[contains(@class, \u001b[39m\u001b[39m\"\u001b[39m\u001b[39mjobs-unified-top-card t-14\u001b[39m\u001b[39m\"\u001b[39m\u001b[39m)]//a[@href]\u001b[39m\u001b[39m'\u001b[39m)\n\u001b[0;32m----> 6\u001b[0m     link \u001b[39m=\u001b[39m link_elem\u001b[39m.\u001b[39;49mget_attribute(\u001b[39m'\u001b[39;49m\u001b[39mhref\u001b[39;49m\u001b[39m'\u001b[39;49m)\n\u001b[1;32m      7\u001b[0m     _id \u001b[39m=\u001b[39m re\u001b[39m.\u001b[39mfindall(\u001b[39m'\u001b[39m\u001b[39m(?<=view/)(.*)(?=/)\u001b[39m\u001b[39m'\u001b[39m, link)\n\u001b[1;32m      9\u001b[0m     \u001b[39massert\u001b[39;00m \u001b[39mlen\u001b[39m(_id) \u001b[39m==\u001b[39m \u001b[39m1\u001b[39m, \u001b[39m\"\u001b[39m\u001b[39mMultiple Id found for same job posting!\u001b[39m\u001b[39m\"\u001b[39m\n",
      "File \u001b[0;32m~/anaconda3/envs/web-scrape/lib/python3.8/site-packages/selenium/webdriver/remote/webelement.py:177\u001b[0m, in \u001b[0;36mWebElement.get_attribute\u001b[0;34m(self, name)\u001b[0m\n\u001b[1;32m    175\u001b[0m \u001b[39mif\u001b[39;00m getAttribute_js \u001b[39mis\u001b[39;00m \u001b[39mNone\u001b[39;00m:\n\u001b[1;32m    176\u001b[0m     _load_js()\n\u001b[0;32m--> 177\u001b[0m attribute_value \u001b[39m=\u001b[39m \u001b[39mself\u001b[39;49m\u001b[39m.\u001b[39;49mparent\u001b[39m.\u001b[39;49mexecute_script(\u001b[39mf\u001b[39;49m\u001b[39m\"\u001b[39;49m\u001b[39mreturn (\u001b[39;49m\u001b[39m{\u001b[39;49;00mgetAttribute_js\u001b[39m}\u001b[39;49;00m\u001b[39m).apply(null, arguments);\u001b[39;49m\u001b[39m\"\u001b[39;49m, \u001b[39mself\u001b[39;49m, name)\n\u001b[1;32m    178\u001b[0m \u001b[39mreturn\u001b[39;00m attribute_value\n",
      "File \u001b[0;32m~/anaconda3/envs/web-scrape/lib/python3.8/site-packages/selenium/webdriver/remote/webdriver.py:500\u001b[0m, in \u001b[0;36mWebDriver.execute_script\u001b[0;34m(self, script, *args)\u001b[0m\n\u001b[1;32m    497\u001b[0m converted_args \u001b[39m=\u001b[39m \u001b[39mlist\u001b[39m(args)\n\u001b[1;32m    498\u001b[0m command \u001b[39m=\u001b[39m Command\u001b[39m.\u001b[39mW3C_EXECUTE_SCRIPT\n\u001b[0;32m--> 500\u001b[0m \u001b[39mreturn\u001b[39;00m \u001b[39mself\u001b[39;49m\u001b[39m.\u001b[39;49mexecute(command, {\u001b[39m\"\u001b[39;49m\u001b[39mscript\u001b[39;49m\u001b[39m\"\u001b[39;49m: script, \u001b[39m\"\u001b[39;49m\u001b[39margs\u001b[39;49m\u001b[39m\"\u001b[39;49m: converted_args})[\u001b[39m\"\u001b[39m\u001b[39mvalue\u001b[39m\u001b[39m\"\u001b[39m]\n",
      "File \u001b[0;32m~/anaconda3/envs/web-scrape/lib/python3.8/site-packages/selenium/webdriver/remote/webdriver.py:440\u001b[0m, in \u001b[0;36mWebDriver.execute\u001b[0;34m(self, driver_command, params)\u001b[0m\n\u001b[1;32m    438\u001b[0m response \u001b[39m=\u001b[39m \u001b[39mself\u001b[39m\u001b[39m.\u001b[39mcommand_executor\u001b[39m.\u001b[39mexecute(driver_command, params)\n\u001b[1;32m    439\u001b[0m \u001b[39mif\u001b[39;00m response:\n\u001b[0;32m--> 440\u001b[0m     \u001b[39mself\u001b[39;49m\u001b[39m.\u001b[39;49merror_handler\u001b[39m.\u001b[39;49mcheck_response(response)\n\u001b[1;32m    441\u001b[0m     response[\u001b[39m\"\u001b[39m\u001b[39mvalue\u001b[39m\u001b[39m\"\u001b[39m] \u001b[39m=\u001b[39m \u001b[39mself\u001b[39m\u001b[39m.\u001b[39m_unwrap_value(response\u001b[39m.\u001b[39mget(\u001b[39m\"\u001b[39m\u001b[39mvalue\u001b[39m\u001b[39m\"\u001b[39m, \u001b[39mNone\u001b[39;00m))\n\u001b[1;32m    442\u001b[0m     \u001b[39mreturn\u001b[39;00m response\n",
      "File \u001b[0;32m~/anaconda3/envs/web-scrape/lib/python3.8/site-packages/selenium/webdriver/remote/errorhandler.py:245\u001b[0m, in \u001b[0;36mErrorHandler.check_response\u001b[0;34m(self, response)\u001b[0m\n\u001b[1;32m    243\u001b[0m         alert_text \u001b[39m=\u001b[39m value[\u001b[39m\"\u001b[39m\u001b[39malert\u001b[39m\u001b[39m\"\u001b[39m]\u001b[39m.\u001b[39mget(\u001b[39m\"\u001b[39m\u001b[39mtext\u001b[39m\u001b[39m\"\u001b[39m)\n\u001b[1;32m    244\u001b[0m     \u001b[39mraise\u001b[39;00m exception_class(message, screen, stacktrace, alert_text)  \u001b[39m# type: ignore[call-arg]  # mypy is not smart enough here\u001b[39;00m\n\u001b[0;32m--> 245\u001b[0m \u001b[39mraise\u001b[39;00m exception_class(message, screen, stacktrace)\n",
      "\u001b[0;31mWebDriverException\u001b[0m: Message: disconnected: Unable to receive message from renderer\n  (failed to check if window was closed: disconnected: not connected to DevTools)\n  (Session info: chrome=110.0.5481.77)\nStacktrace:\n#0 0x559202412253 <unknown>\n#1 0x5592021e71b7 <unknown>\n#2 0x5592021d1679 <unknown>\n#3 0x5592021d13da <unknown>\n#4 0x5592021cff7e <unknown>\n#5 0x5592021d0702 <unknown>\n#6 0x5592021f21be <unknown>\n#7 0x5592021e9ee1 <unknown>\n#8 0x5592021e9b98 <unknown>\n#9 0x5592021ea441 <unknown>\n#10 0x5592021eb13c <unknown>\n#11 0x55920225ee9e <unknown>\n#12 0x559202246702 <unknown>\n#13 0x55920225e330 <unknown>\n#14 0x559202246463 <unknown>\n#15 0x55920221634e <unknown>\n#16 0x559202217538 <unknown>\n#17 0x559202462bb6 <unknown>\n#18 0x559202465c19 <unknown>\n#19 0x55920246656c <unknown>\n#20 0x55920244a34e <unknown>\n#21 0x559202466df6 <unknown>\n#22 0x55920243b9c7 <unknown>\n#23 0x559202488e48 <unknown>\n#24 0x559202488fe5 <unknown>\n#25 0x5592024a2356 <unknown>\n#26 0x7f614a243609 <unknown>\n"
     ]
    }
   ],
   "source": [
    "scrape_pages(driver, 40)"
   ]
  },
  {
   "cell_type": "code",
   "execution_count": null,
   "metadata": {},
   "outputs": [],
   "source": []
  }
 ],
 "metadata": {
  "kernelspec": {
   "display_name": "web-scrape",
   "language": "python",
   "name": "python3"
  },
  "language_info": {
   "codemirror_mode": {
    "name": "ipython",
    "version": 3
   },
   "file_extension": ".py",
   "mimetype": "text/x-python",
   "name": "python",
   "nbconvert_exporter": "python",
   "pygments_lexer": "ipython3",
   "version": "3.8.16"
  },
  "orig_nbformat": 4,
  "vscode": {
   "interpreter": {
    "hash": "4f1d3b173b9b775dff81d90e6412d1bd768e703d4c0fdde8084be4ea16c2cf28"
   }
  }
 },
 "nbformat": 4,
 "nbformat_minor": 2
}
